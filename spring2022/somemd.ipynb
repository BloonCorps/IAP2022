{
 "cells": [
  {
   "cell_type": "markdown",
   "metadata": {},
   "source": [
    "# Solvation and Absolute Free Energy Calculations of Alanine Dipeptide Conformations"
   ]
  },
  {
   "cell_type": "markdown",
   "metadata": {},
   "source": [
    "## 1.1. Absolute Free Energy Definition"
   ]
  },
  {
   "cell_type": "markdown",
   "metadata": {},
   "source": [
    "Consider the definition of a parition function $Z$ for a molecular dynamics system and Helmholtz free energy $F(N, V, T)$.\n",
    "\n",
    "$$Z = \\int \\int e^{-\\beta H(\\vec{r}, \\vec{p})} \\,d\\vec{r} d\\vec{p}$$\n",
    "\n",
    "$$F = -\\frac{\\ln Z}{\\beta} $$\n",
    "\n",
    "However, typically free energy calculations usually only involve finding the free energy $Z_r$ due to configurations, since the equiparition theorem makes finding the $Z_p$ very easy.\n",
    "\n",
    "$$H(\\vec{r}, \\vec{p}) = U(\\vec{r}) + K(\\vec{p})$$\n",
    "\n",
    "$$Z = \\int e^{-\\beta V(\\vec{r})} d\\vec{r} \\cdot \\int e^{-\\beta K(\\vec{p})}d\\vec{p}$$\n",
    "\n",
    "$$Z = Z_r \\cdot Z_p$$\n",
    "\n",
    "Of course, the integral $$Z_r = \\int e^{-\\beta V(\\vec{r})} d\\vec{r}$$\n",
    "\n",
    "is almost completely intractable, so Monte-Carlo or molecular dyanmics simulations can be used to estimate the integral. "
   ]
  },
  {
   "cell_type": "markdown",
   "metadata": {},
   "source": [
    "## 1.2 Absolute Free Energy of a Subsystem"
   ]
  },
  {
   "cell_type": "markdown",
   "metadata": {},
   "source": [
    "Define a substate to be some allowed set of coordinates, $A \\in \\mathbb{R}^{3N}$.\n",
    "\n",
    "The absolute free energy of a substate of the substate $A$ is then "
   ]
  },
  {
   "cell_type": "markdown",
   "metadata": {},
   "source": [
    "## 1.3 Thermodynamic Path for Calculating Free Energy Difference"
   ]
  },
  {
   "cell_type": "markdown",
   "metadata": {},
   "source": [
    "## 1.2 AMBER Force Field "
   ]
  },
  {
   "cell_type": "markdown",
   "metadata": {},
   "source": [
    "The functional form of the AMBER force field is: \n",
    "$$ V(r) = \\sum k_{bi} (l_i - l_i^0)^2 + \\sum k(\\theta_i - \\theta_i^0)^2 + \\sum \\sum \\frac{1}{2} V_i^n[1+cos(n)]$$"
   ]
  },
  {
   "cell_type": "markdown",
   "metadata": {},
   "source": [
    "## 1.3 GBSA (Generalized Born, Surface Area)"
   ]
  },
  {
   "cell_type": "markdown",
   "metadata": {},
   "source": [
    "Sus math."
   ]
  },
  {
   "cell_type": "markdown",
   "metadata": {},
   "source": [
    "## 1.4 Explicit Solvent"
   ]
  },
  {
   "cell_type": "markdown",
   "metadata": {},
   "source": [
    "Explain the effect of Tip3 water solvent"
   ]
  },
  {
   "cell_type": "markdown",
   "metadata": {},
   "source": [
    "## 1.5 Dialanine Comformations"
   ]
  },
  {
   "cell_type": "markdown",
   "metadata": {},
   "source": [
    "<img src=\"dialanine_landscape_lolores.jpg\">"
   ]
  },
  {
   "cell_type": "markdown",
   "metadata": {},
   "source": [
    "Alanine dipeptide can have 4 or 6 metasable states depending on interpretation. If we must define two substates $A$ and $B$, we can define:\n",
    "\n",
    "$A := \\{ \\forall \\psi, \\phi  \\colon  \\psi \\in [-120 \\degree, 30 \\degree], \\phi \\in [-180 \\degree , 10 \\degree] \\cup [120 \\degree, 180 \\degree] \\}$\n",
    "\n",
    "$B := \\{ \\forall \\psi, \\phi  \\colon  \\psi \\in [-180 \\degree, -120 \\degree] \\cup [30 \\degree, 180 \\degree], \\phi \\in [-180 \\degree , 10 \\degree] \\cup [120 \\degree, 180 \\degree] \\}$"
   ]
  },
  {
   "cell_type": "markdown",
   "metadata": {},
   "source": [
    "## 1.6 Biasing Potentials"
   ]
  },
  {
   "cell_type": "markdown",
   "metadata": {},
   "source": [
    "A common biasing potential is the harmonic oscilator biasing potential: \n",
    "\n",
    "$$\\frac{1}{2} k_\\theta (\\theta - \\theta_0)^2$$\n",
    "\n",
    "But technically since $\\theta$ is measured on a circle, we need to redefine it as:\n",
    "\n",
    "$$\\frac{1}{2} k_\\theta (\\min[\\mid\\theta - \\theta_0\\mid, 2\\pi - \\mid \\theta - \\theta_0 \\mid ] - \\theta_0)^2$$\n",
    "\n",
    "What if, instead, we had a particle in a box biasing potential? Such that the energy pentaly is 0 when inside a specified range, and $\\infty$ when outside the the specified range?\n",
    "\n",
    "$$\n",
    "\n",
    "U_A(\\theta)=\n",
    "\\begin{cases}\n",
    "0, | \\phi, \\psi \\in [\\\\\n",
    "x(n-1)\\\\\n",
    "x(n-1)\n",
    "\\end{cases}\n",
    "\n",
    "$$"
   ]
  },
  {
   "cell_type": "markdown",
   "metadata": {},
   "source": [
    "## 1.7 Solvation Energy Thermodynamics"
   ]
  },
  {
   "cell_type": "markdown",
   "metadata": {},
   "source": [
    "## 2.1 Implict Solvent Simulation for Substate A"
   ]
  },
  {
   "cell_type": "code",
   "execution_count": 16,
   "metadata": {},
   "outputs": [],
   "source": [
    "from sys import stdout\n",
    "\n",
    "import matplotlib.pyplot as plt\n",
    "import mdtraj\n",
    "import nglview\n",
    "import numpy as np\n",
    "\n",
    "from simtk.openmm import *\n",
    "from simtk.openmm.app import *\n",
    "from simtk.unit import picosecond, femtoseconds, nanometer\n",
    "from simtk.unit import *"
   ]
  },
  {
   "cell_type": "code",
   "execution_count": 6,
   "metadata": {},
   "outputs": [],
   "source": [
    "pdb = PDBFile('alanine-dipeptide.pdb') #file with atomic coords and such\n",
    "forcefield = ForceField('amber14-all.xml') #was done in 2015 and such\n",
    "\n",
    "system = forcefield.createSystem(\n",
    "    pdb.topology, nonbondedCutoff=3*nanometer, constraints=HBonds)\n",
    "\n",
    "integrator = LangevinIntegrator(300*kelvin, 1/picosecond, 2*femtoseconds)\n",
    "simulation = Simulation(pdb.topology, system, integrator)\n",
    "simulation.context.setPositions(pdb.positions)\n",
    "simulation.minimizeEnergy()\n",
    "\n",
    "simulation.reporters = []\n",
    "simulation.reporters.append(DCDReporter('traj1.dcd', 100))\n",
    "simulation.step(100000)"
   ]
  },
  {
   "cell_type": "code",
   "execution_count": 9,
   "metadata": {},
   "outputs": [],
   "source": [
    "forcefield = ForceField('amber99sbnmr.xml', 'amber99_obc.xml')\n",
    "system = forcefield.createSystem(pdb.topology, nonbondedCutoff=3*nanometer, constraints=HBonds)\n",
    "integrator = LangevinIntegrator(300*kelvin, 1/picosecond, 2*femtoseconds)\n",
    "simulation = Simulation(pdb.topology, system, integrator)\n",
    "simulation.context.setPositions(pdb.positions)\n",
    "simulation.minimizeEnergy()\n",
    "'''\n",
    "simulation.reporters = []\n",
    "simulation.reporters.append(DCDReporter('traj2.dcd', 100))\n",
    "simulation.reporters.append(StateDataReporter(stdout, 1000, step=True, temperature=True, elapsedTime=True))\n",
    "simulation.reporters.append(StateDataReporter(\"scalars2.csv\", 100, time=True, potentialEnergy=True, totalEnergy=True, temperature=True))\n",
    "'''\n",
    "simulation.step(100000)"
   ]
  },
  {
   "cell_type": "code",
   "execution_count": 10,
   "metadata": {},
   "outputs": [],
   "source": [
    "def plot_ramachandran(traj, phi_atoms=None, psi_atoms=None):\n",
    "    \"\"\"Generate a basic Ramachandrom plot for a given trajectory.\n",
    "\n",
    "    Parameters\n",
    "    ----------\n",
    "    traj\n",
    "        An MDTraj trajectory object.\n",
    "    phi_atoms\n",
    "        A list of atom names (in order) to identify the phi angle.\n",
    "        The defaults in MDTraj do not work for termini in CHARMM\n",
    "        topologies, which can be fixed with this argument.\n",
    "    psi_atoms\n",
    "        A list of atom names (in order) to identify the psi angle.\n",
    "        The defaults in MDTraj do not work for termini in CHARMM\n",
    "        topologies, which can be fixed with this argument.\n",
    "\n",
    "    \"\"\"\n",
    "    from matplotlib.gridspec import GridSpec\n",
    "    if phi_atoms is None:\n",
    "        phis = mdtraj.compute_phi(traj)[1].ravel()\n",
    "    else:\n",
    "        phis = mdtraj.compute_dihedrals(\n",
    "            traj, mdtraj.geometry.dihedral._atom_sequence(traj.topology, phi_atoms)[1])\n",
    "    if psi_atoms is None:\n",
    "        psis = mdtraj.compute_psi(traj)[1].ravel()\n",
    "    else:\n",
    "        psis = mdtraj.compute_dihedrals(\n",
    "            traj, mdtraj.geometry.dihedral._atom_sequence(traj.topology, psi_atoms)[1])\n",
    "    fig = plt.figure()\n",
    "    gs = GridSpec(nrows=2, ncols=3)\n",
    "    # Ramachandran plot\n",
    "    ax1 = fig.add_subplot(gs[:2, :2])\n",
    "    ax1.plot(phis*180/np.pi, psis*180/np.pi, 'k+')\n",
    "    ax1.set_aspect('equal', adjustable='box')\n",
    "    ax1.axvline(0)\n",
    "    ax1.axhline(0)\n",
    "    ax1.set_xlim(-180, 180)\n",
    "    ax1.set_ylim(-180, 180)\n",
    "    ax1.set_xticks(np.linspace(-180, 180, 5))\n",
    "    ax1.set_yticks(np.linspace(-180, 180, 5))\n",
    "    ax1.set_xlabel(\"Phi [deg]\")\n",
    "    ax1.set_ylabel(\"Psi [deg]\")\n",
    "    # Phi(t) plot\n",
    "    ax2 = fig.add_subplot(gs[0, 2])\n",
    "    ax2.plot(np.arange(len(phis)), phis*180/np.pi, 'k+')\n",
    "    ax2.axhline(0)\n",
    "    ax2.set_ylim(-180, 180)\n",
    "    ax2.set_yticks(np.linspace(-180, 180, 5))\n",
    "    ax2.set_xlabel(\"Step\")\n",
    "    ax2.set_ylabel(\"Phi [deg]\")\n",
    "    # Psi(t) plot\n",
    "    ax3 = fig.add_subplot(gs[1, 2])\n",
    "    ax3.plot(np.arange(len(phis)), psis*180/np.pi, 'k+')\n",
    "    ax3.axhline(0)\n",
    "    ax3.set_ylim(-180, 180)\n",
    "    ax3.set_yticks(np.linspace(-180, 180, 5))\n",
    "    ax3.set_xlabel(\"Step\")\n",
    "    ax3.set_ylabel(\"Psi [deg]\")\n",
    "    fig.tight_layout()"
   ]
  },
  {
   "cell_type": "code",
   "execution_count": 8,
   "metadata": {},
   "outputs": [
    {
     "data": {
      "image/png": "[encoded data removed]",
      "text/plain": [
       "<Figure size 432x288 with 3 Axes>"
      ]
     },
     "metadata": {
      "needs_background": "light"
     },
     "output_type": "display_data"
    }
   ],
   "source": [
    "traj2 = mdtraj.load('traj2.dcd', top='alanine-dipeptide.prmtop')\n",
    "plot_ramachandran(traj2)"
   ]
  },
  {
   "cell_type": "markdown",
   "metadata": {},
   "source": [
    "## Explicit Solvent Simulations"
   ]
  },
  {
   "cell_type": "code",
   "execution_count": 11,
   "metadata": {},
   "outputs": [
    {
     "name": "stdout",
     "output_type": "stream",
     "text": [
      "<Topology; 2 chains, 661 residues, 1996 atoms, 1337 bonds>\n",
      "#\"Step\",\"Temperature (K)\",\"Elapsed Time (s)\"\n",
      "1000,262.83382881919863,9.131431579589844e-05\n",
      "2000,285.18645818628767,0.2373490333557129\n",
      "3000,299.56401452968333,0.4724769592285156\n",
      "4000,301.7906213256453,0.7090446949005127\n",
      "5000,302.2267754283799,0.9504439830780029\n",
      "6000,287.7583565153134,1.1927862167358398\n",
      "7000,296.9606572642015,1.4373066425323486\n",
      "8000,320.0953079202336,1.7328517436981201\n",
      "9000,302.04366838213946,1.9823858737945557\n",
      "10000,294.3629914097491,2.220136880874634\n",
      "11000,314.0295013050865,2.4565649032592773\n",
      "12000,293.9182496066103,2.696990489959717\n",
      "13000,301.19345189184554,2.9469447135925293\n",
      "14000,298.93555653957355,3.1952176094055176\n",
      "15000,298.5426854645923,4.048005819320679\n",
      "16000,310.251786234498,4.30790114402771\n",
      "17000,298.2578853821763,4.555905818939209\n",
      "18000,293.7839605031743,4.798627614974976\n",
      "19000,295.7748634562903,5.040841579437256\n",
      "20000,292.7006890718226,5.278913497924805\n",
      "21000,293.7940720966518,5.518489122390747\n",
      "22000,301.57720627011514,6.218761682510376\n",
      "23000,303.80158863890614,6.463682651519775\n",
      "24000,300.1004073196147,6.705305099487305\n",
      "25000,301.9737266078171,6.949305057525635\n",
      "26000,308.2895521099908,7.196293830871582\n",
      "27000,300.21028288015276,7.454291343688965\n",
      "28000,301.3128217729115,7.699251890182495\n",
      "29000,300.3007860830214,8.005720138549805\n",
      "30000,309.35063962610934,8.257256984710693\n",
      "31000,299.75020157433414,8.496898651123047\n",
      "32000,308.7041062415691,8.74226450920105\n",
      "33000,295.51857758171036,8.988995552062988\n",
      "34000,305.65945382598954,9.234627485275269\n",
      "35000,303.26147670956766,9.477754592895508\n",
      "36000,300.0014156332149,9.78504490852356\n",
      "37000,308.2899790919453,10.025921106338501\n",
      "38000,295.11672357002874,10.290184736251831\n",
      "39000,306.02645361576236,10.558004379272461\n",
      "40000,291.1419141136689,10.815444707870483\n",
      "41000,312.714769083528,11.071290254592896\n",
      "42000,293.68915018014724,11.332397222518921\n",
      "43000,302.6980475920996,11.581915378570557\n",
      "44000,298.3758160342233,11.879769325256348\n",
      "45000,300.22917054025993,12.15026569366455\n",
      "46000,288.60209635875833,12.392345905303955\n",
      "47000,300.9468797033555,12.642446994781494\n",
      "48000,306.16686260715807,12.898678302764893\n",
      "49000,305.392470079144,13.179214477539062\n",
      "50000,303.9007954222979,13.431209325790405\n",
      "51000,297.3380493028142,14.253687620162964\n",
      "52000,304.708478831883,14.504183530807495\n",
      "53000,294.91200376718706,14.74571418762207\n",
      "54000,295.643187972969,14.986173391342163\n",
      "55000,304.25826068431576,15.241484642028809\n",
      "56000,303.26061925467667,15.675186157226562\n",
      "57000,304.16975882389,15.924402713775635\n",
      "58000,293.12000172636493,16.251089334487915\n",
      "59000,301.9229162272862,16.50520658493042\n",
      "60000,304.1534702955231,16.797134160995483\n",
      "61000,299.88145395741043,17.05956244468689\n",
      "62000,301.3019665533219,17.335724115371704\n",
      "63000,302.644129602356,17.58102250099182\n",
      "64000,302.19890320536234,18.24539017677307\n",
      "65000,281.8166686510913,18.546295642852783\n",
      "66000,307.6714922843964,18.78590703010559\n",
      "67000,309.2349082578898,19.03158712387085\n",
      "68000,306.2580441446625,19.29114055633545\n",
      "69000,298.2950145213382,19.53072476387024\n",
      "70000,298.69056496939066,19.76761794090271\n",
      "71000,288.25542953714194,20.38335394859314\n",
      "72000,304.6833400300849,20.677465200424194\n",
      "73000,300.0485295836542,20.92603826522827\n",
      "74000,303.91834133415165,21.174437999725342\n",
      "75000,299.84025089127533,21.428054809570312\n",
      "76000,291.883559337325,21.675662517547607\n",
      "77000,308.21522640458926,21.9203941822052\n",
      "78000,308.1873377398786,22.20930290222168\n",
      "79000,301.9375201759344,22.731178760528564\n",
      "80000,297.64401331193477,22.97135853767395\n",
      "81000,298.91080449143925,23.25889015197754\n",
      "82000,296.94939757336016,23.530062913894653\n",
      "83000,297.7744432503958,23.778948545455933\n",
      "84000,302.5492097332022,24.03341817855835\n",
      "85000,301.677585042016,24.357558727264404\n",
      "86000,311.98621932114463,24.658727645874023\n",
      "87000,304.86552891752814,24.91288137435913\n",
      "88000,311.5835009090845,25.18268918991089\n",
      "89000,293.6712771382847,25.42794394493103\n",
      "90000,301.88754767221315,25.671306848526\n",
      "91000,310.4581005641141,25.939403533935547\n",
      "92000,308.3737612479848,26.183701038360596\n",
      "93000,301.66250785988825,26.517183303833008\n",
      "94000,302.259657960506,26.762482404708862\n",
      "95000,301.37174578093965,27.011338233947754\n",
      "96000,308.71696902243036,27.25656223297119\n",
      "97000,302.7534732707351,27.500184059143066\n",
      "98000,299.97006885243786,27.7387375831604\n",
      "99000,306.79442818492726,28.006859302520752\n",
      "100000,293.6845913512923,28.31253433227539\n"
     ]
    }
   ],
   "source": [
    "pdb = PDBFile('alanine-dipeptide.pdb')\n",
    "modeller = Modeller(pdb.topology, pdb.positions)\n",
    "forcefield = ForceField('amber14-all.xml', 'amber14/tip3pfb.xml')\n",
    "modeller.addSolvent(forcefield, model='tip3p', padding=1*nanometer)\n",
    "print(modeller.topology)\n",
    "# Write a PDB file to provide a topology of the solvated\n",
    "# system to MDTraj below.\n",
    "with open('init3.pdb', 'w') as outfile:\n",
    "    PDBFile.writeFile(modeller.topology, modeller.positions, outfile)\n",
    "\n",
    "# The modeller builds a periodic box with the solute and solvent molecules.\n",
    "# PME is the method to compute long-range electristatic interactions in\n",
    "# periodic systems.\n",
    "system = forcefield.createSystem(\n",
    "    modeller.topology, nonbondedMethod=PME, constraints=HBonds)\n",
    "temperature = 300 * kelvin\n",
    "pressure = 1 * bar\n",
    "integrator = LangevinIntegrator(temperature, 1/picosecond, 2*femtoseconds)\n",
    "system.addForce(MonteCarloBarostat(pressure, temperature))\n",
    "simulation = Simulation(modeller.topology, system, integrator)\n",
    "simulation.context.setPositions(modeller.positions)\n",
    "simulation.minimizeEnergy()\n",
    "'''\n",
    "simulation.reporters.append(DCDReporter('traj3.dcd', 100))\n",
    "simulation.reporters.append(StateDataReporter(stdout, 1000, step=True, temperature=True, elapsedTime=True))\n",
    "simulation.reporters.append(StateDataReporter(\"scalars3.csv\", 100, time=True, potentialEnergy=True, totalEnergy=True, temperature=True))\n",
    "'''\n",
    "simulation.step(100000)"
   ]
  },
  {
   "cell_type": "code",
   "execution_count": 12,
   "metadata": {},
   "outputs": [
    {
     "data": {
      "image/png": "[encoded data removed]",
      "text/plain": [
       "<Figure size 432x288 with 3 Axes>"
      ]
     },
     "metadata": {
      "needs_background": "light"
     },
     "output_type": "display_data"
    }
   ],
   "source": [
    "traj2 = mdtraj.load('traj2.dcd', top='alanine-dipeptide.prmtop')\n",
    "plot_ramachandran(traj2)"
   ]
  },
  {
   "cell_type": "code",
   "execution_count": 13,
   "metadata": {},
   "outputs": [
    {
     "data": {
      "application/vnd.jupyter.widget-view+json": {
       "model_id": "b6034ccd39764c459ea032c1253d861f",
       "version_major": 2,
       "version_minor": 0
      },
      "text/plain": [
       "NGLWidget(max_frame=999)"
      ]
     },
     "metadata": {},
     "output_type": "display_data"
    }
   ],
   "source": [
    "traj3 = mdtraj.load('traj3.dcd', top='init3.pdb')\n",
    "view = nglview.show_mdtraj(traj3)\n",
    "view.clear_representations()\n",
    "view.add_licorice()\n",
    "view.add_unitcell()\n",
    "view"
   ]
  },
  {
   "cell_type": "code",
   "execution_count": 14,
   "metadata": {},
   "outputs": [
    {
     "data": {
      "image/png": "[encoded data removed]",
      "text/plain": [
       "<Figure size 432x288 with 3 Axes>"
      ]
     },
     "metadata": {
      "needs_background": "light"
     },
     "output_type": "display_data"
    }
   ],
   "source": [
    "traj3.restrict_atoms(traj3.topology.select(\"protein\"))\n",
    "plot_ramachandran(traj3[75:])"
   ]
  },
  {
   "cell_type": "markdown",
   "metadata": {},
   "source": [
    "Probably need to make a restraining potential for the intervals $[-100, 85]$ and $[-100, 85]^c$."
   ]
  },
  {
   "cell_type": "markdown",
   "metadata": {},
   "source": [
    "## References and Required Readings"
   ]
  },
  {
   "cell_type": "markdown",
   "metadata": {},
   "source": [
    "http://ambermd.org/tutorials/advanced/tutorial19/ for that picture of alanine-dipeptide conformations"
   ]
  },
  {
   "cell_type": "markdown",
   "metadata": {},
   "source": [
    "https://en.wikipedia.org/wiki/Water_model#:~:text=In%20computational%20chemistry%2C%20a%20water,experimental%20results%2C%20and%20these%20combinations."
   ]
  }
 ],
 "metadata": {
  "interpreter": {
   "hash": "6bdb4c9c3f61b306428a8735aa29fdb3d47c708c66b6a0572dccc6544bde0e67"
  },
  "kernelspec": {
   "display_name": "Python 3.8.10 ('MMCD')",
   "language": "python",
   "name": "python3"
  },
  "language_info": {
   "codemirror_mode": {
    "name": "ipython",
    "version": 3
   },
   "file_extension": ".py",
   "mimetype": "text/x-python",
   "name": "python",
   "nbconvert_exporter": "python",
   "pygments_lexer": "ipython3",
   "version": "3.8.10"
  },
  "orig_nbformat": 4
 },
 "nbformat": 4,
 "nbformat_minor": 2
}
