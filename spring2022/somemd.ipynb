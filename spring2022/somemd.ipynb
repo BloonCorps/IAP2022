{
 "cells": [
  {
   "cell_type": "markdown",
   "metadata": {},
   "source": [
    "# Solvation and Absolute Free Energy Calculations of Alanine Dipeptide Conformations"
   ]
  },
  {
   "cell_type": "code",
   "execution_count": 102,
   "metadata": {},
   "outputs": [],
   "source": [
    "from sys import stdout\n",
    "\n",
    "import matplotlib.pyplot as plt\n",
    "import mdtraj\n",
    "import nglview\n",
    "import numpy as np\n",
    "\n",
    "#import openmm\n",
    "from simtk.openmm import *\n",
    "from simtk.openmm.app import *\n",
    "import simtk.openmm.app  as omm_app\n",
    "import simtk.openmm as omm\n",
    "\n",
    "from simtk.unit import picosecond, femtoseconds, nanometer\n",
    "from simtk.unit import *\n",
    "\n",
    "def plot_ramachandran(traj, phi_atoms=None, psi_atoms=None):\n",
    "    \"\"\"\n",
    "    Generate a basic Ramachandrom plot for a given trajectory.\n",
    "    traj: An MDTraj trajectory object.\n",
    "    phi_atoms: A list of atom names (in order) to identify the phi angle.\n",
    "        The defaults in MDTraj do not work for termini in CHARMM\n",
    "        topologies, which can be fixed with this argument.\n",
    "    psi_atoms\n",
    "        A list of atom names (in order) to identify the psi angle.\n",
    "        The defaults in MDTraj do not work for termini in CHARMM\n",
    "        topologies, which can be fixed with this argument.\n",
    "    \"\"\"\n",
    "    from matplotlib.gridspec import GridSpec\n",
    "    if phi_atoms is None:\n",
    "        phis = mdtraj.compute_phi(traj)[1].ravel()\n",
    "    else:\n",
    "        phis = mdtraj.compute_dihedrals(\n",
    "            traj, mdtraj.geometry.dihedral._atom_sequence(traj.topology, phi_atoms)[1])\n",
    "    if psi_atoms is None:\n",
    "        psis = mdtraj.compute_psi(traj)[1].ravel()\n",
    "    else:\n",
    "        psis = mdtraj.compute_dihedrals(\n",
    "            traj, mdtraj.geometry.dihedral._atom_sequence(traj.topology, psi_atoms)[1])\n",
    "    fig = plt.figure()\n",
    "    gs = GridSpec(nrows=2, ncols=3)\n",
    "    ax1 = fig.add_subplot(gs[:2, :2]) #Ramachandran plot\n",
    "    ax1.plot(phis*180/np.pi, psis*180/np.pi, 'k+')\n",
    "    ax1.set_aspect('equal', adjustable='box')\n",
    "    ax1.axvline(0)\n",
    "    ax1.axhline(0)\n",
    "    ax1.set_xlim(-180, 180)\n",
    "    ax1.set_ylim(-180, 180)\n",
    "    ax1.set_xticks(np.linspace(-180, 180, 5))\n",
    "    ax1.set_yticks(np.linspace(-180, 180, 5))\n",
    "    ax1.set_xlabel(\"Phi [deg]\")\n",
    "    ax1.set_ylabel(\"Psi [deg]\")\n",
    "    ax2 = fig.add_subplot(gs[0, 2]) #Phi(t) plot\n",
    "    ax2.plot(np.arange(len(phis)), phis*180/np.pi, 'k+')\n",
    "    ax2.axhline(0)\n",
    "    ax2.set_ylim(-180, 180)\n",
    "    ax2.set_yticks(np.linspace(-180, 180, 5))\n",
    "    ax2.set_xlabel(\"Step\")\n",
    "    ax2.set_ylabel(\"Phi [deg]\")\n",
    "    ax3 = fig.add_subplot(gs[1, 2]) #Psi(t) plot\n",
    "    ax3.plot(np.arange(len(phis)), psis*180/np.pi, 'k+')\n",
    "    ax3.axhline(0)\n",
    "    ax3.set_ylim(-180, 180)\n",
    "    ax3.set_yticks(np.linspace(-180, 180, 5))\n",
    "    ax3.set_xlabel(\"Step\")\n",
    "    ax3.set_ylabel(\"Psi [deg]\")\n",
    "    fig.tight_layout()"
   ]
  },
  {
   "cell_type": "markdown",
   "metadata": {},
   "source": [
    "## 1.1. Absolute Free Energy Definition"
   ]
  },
  {
   "cell_type": "markdown",
   "metadata": {},
   "source": [
    "Consider the definition of a parition function $Z$ for a molecular dynamics system and Helmholtz free energy $F(N, V, T)$.\n",
    "\n",
    "$$Z = \\int \\int e^{-\\beta H(\\vec{r}, \\vec{p})} \\,d\\vec{r} d\\vec{p}$$\n",
    "\n",
    "$$F = -\\frac{\\ln Z}{\\beta} $$\n",
    "\n",
    "However, typically free energy calculations usually only involve finding the free energy $Z_r$ due to configurations, since the equiparition theorem makes finding the $Z_p$ very easy.\n",
    "\n",
    "$$H(\\vec{r}, \\vec{p}) = U(\\vec{r}) + K(\\vec{p})$$\n",
    "\n",
    "$$Z = \\int e^{-\\beta V(\\vec{r})} d\\vec{r} \\cdot \\int e^{-\\beta K(\\vec{p})}d\\vec{p}$$\n",
    "\n",
    "$$Z = Z_r \\cdot Z_p$$\n",
    "\n",
    "Of course, the integral $Z_r = \\int e^{-\\beta V(\\vec{r})} d\\vec{r}$ is almost completely intractable, so Monte-Carlo or molecular dyanmics simulations can be used to estimate the integral. \n",
    "\n",
    "From now on, when we specify the parition function $Z$, we really mean $Z_r$ because $Z_p$ is trivial to compute, and solving for $Z_r$ is essentially solving for $Z$."
   ]
  },
  {
   "cell_type": "markdown",
   "metadata": {},
   "source": [
    "## 1.2 Absolute Free Energy of a Subsystem"
   ]
  },
  {
   "cell_type": "markdown",
   "metadata": {},
   "source": [
    "Define a substate to be some allowed set of coordinates, $A \\in \\mathbb{R}^{3N}$. The partition function of that substate is then:\n",
    "\n",
    "$$Z_{A} = \\int_{\\vec{r} \\in A} e^{-\\beta V(\\vec{r})} d\\vec{r}$$\n",
    "\n",
    "The absolute free energy of that subsystem is then: \n",
    "\n",
    "$$F_{\\mathbf{R} \\rightarrow A} = -\\frac{1}{\\beta} \\cdot \\frac{\\ln Z_A}{\\ln Z_R}$$\n",
    "\n",
    "It represents the relative probability of existing in $A$ versus the entire universe of allowed states $\\mathbf{R}$."
   ]
  },
  {
   "cell_type": "markdown",
   "metadata": {},
   "source": [
    "## 1.2 AMBER Force Field "
   ]
  },
  {
   "cell_type": "markdown",
   "metadata": {},
   "source": [
    "The functional form of the AMBER force field is: \n",
    "$$ V(r) = \\sum_{i \\in \\text{bonds}} k_{bi} (l_i - l_i^0)^2 + \\sum k(\\theta_i - \\theta_i^0)^2 + \\sum \\sum \\frac{1}{2} V_i^n[1+cos(n)]$$\n",
    "\n",
    "1. $\\sum_{i \\in \\text{bonds}} k_{bi} (l_i - l_i^0)^2$: this term describes the energy between covalently bonded atoms."
   ]
  },
  {
   "cell_type": "markdown",
   "metadata": {},
   "source": [
    "## 1.3 GBSA (Generalized Born, Surface Area)"
   ]
  },
  {
   "cell_type": "markdown",
   "metadata": {},
   "source": [
    "Sus math."
   ]
  },
  {
   "cell_type": "markdown",
   "metadata": {},
   "source": [
    "## 1.4 Explicit Solvent"
   ]
  },
  {
   "cell_type": "markdown",
   "metadata": {},
   "source": [
    "Explain the effect of Tip3 water solvent"
   ]
  },
  {
   "cell_type": "markdown",
   "metadata": {},
   "source": [
    "## 1.5 Dialanine Comformations"
   ]
  },
  {
   "cell_type": "markdown",
   "metadata": {},
   "source": [
    "<img src=\"dialanine_lolores.jpg\">"
   ]
  },
  {
   "cell_type": "markdown",
   "metadata": {},
   "source": [
    "Alanine dipeptide can have 4 or 6 metasable states depending on interpretation. If we must define two substates $A$ and $B$, we can define:\n",
    "\n",
    "$A := \\{ \\forall \\psi, \\phi  \\colon  \\psi \\in [-120 \\degree, 30 \\degree] = [-2.094 \\text{ rad}, 0.5236 \\text{  rad}], \\phi \\in [-180 \\degree , 0 \\degree] = [-3.14 \\text{\\ rad}, 0 \\text{ \\ rad}] \\}$\n",
    "\n",
    "$B := \\{ \\forall \\psi, \\phi  \\colon  \\psi \\in [-180 \\degree, -120 \\degree] \\cup [30 \\degree, 180 \\degree], \\phi \\in [-180 \\degree , 10 \\degree] \\cup [120 \\degree, 180 \\degree] \\}$"
   ]
  },
  {
   "cell_type": "markdown",
   "metadata": {},
   "source": [
    "## 1.6 Biasing Potentials"
   ]
  },
  {
   "cell_type": "markdown",
   "metadata": {},
   "source": [
    "$$\n",
    "\n",
    "U_A(\\theta)=\n",
    "\\begin{cases}\n",
    "0 & \\psi \\in [-2.094 \\text{ rad}, 0.5236 \\text{  rad}], \\phi \\in [-3.14 \\text{\\ rad}, 0 \\text{ \\ rad}] \\\\\n",
    "\\infty &  \\text{otherwise}\n",
    "\\end{cases}\n",
    "\n",
    "$$\n",
    "\n",
    "$$\n",
    "U_B(\\theta)=\n",
    "\\begin{cases}\n",
    "0 & \\psi \\in [-180 \\degree, -120 \\degree] \\cup [30 \\degree, 180 \\degree], \\phi \\in [-180 \\degree , 10 \\degree] \\cup [120 \\degree, 180 \\degree] \\\\\n",
    "\\infty &  \\text{otherwise}\n",
    "\\end{cases}\n",
    "\n",
    "$$"
   ]
  },
  {
   "cell_type": "markdown",
   "metadata": {},
   "source": [
    "## 1.7 Solvation Energy Thermodynamics"
   ]
  },
  {
   "cell_type": "markdown",
   "metadata": {},
   "source": [
    "## 2.1 Implict Solvent"
   ]
  },
  {
   "cell_type": "markdown",
   "metadata": {},
   "source": [
    "## Region A"
   ]
  },
  {
   "cell_type": "code",
   "execution_count": 109,
   "metadata": {},
   "outputs": [
    {
     "data": {
      "image/png": "[encoded data removed]",
      "text/plain": [
       "<Figure size 432x288 with 3 Axes>"
      ]
     },
     "metadata": {
      "needs_background": "light"
     },
     "output_type": "display_data"
    }
   ],
   "source": [
    "pdb = PDBFile('alanine-dipeptide.pdb')\n",
    "forcefield = ForceField('amber99sbnmr.xml', 'amber99_obc.xml')\n",
    "system = forcefield.createSystem(\n",
    "    pdb.topology, nonbondedCutoff=3*nanometer, constraints=HBonds)\n",
    "    \n",
    "#ADD A PARTICLE IN A BOX BIASING, psi angles: 4, 6, 8, 14, phi angles: 6, 8, 14, 16\n",
    "bias_torsion_phi = omm.CustomTorsionForce(\"15*( -erf(75*(theta+3.14)) + erf(75*(theta-0)) )\")\n",
    "bias_torsion_phi.addGlobalParameter(\"inf\", 1000)\n",
    "bias_torsion_phi.addGlobalParameter(\"tau\", 2*math.pi)\n",
    "bias_torsion_phi.addTorsion(6, 8, 14, 16) \n",
    "system.addForce(bias_torsion_phi)\n",
    "\n",
    "bias_torsion_psi = omm.CustomTorsionForce(\"15*( -erf(75*(theta+2.094)) + erf(75*(theta-0.5236)) )\")\n",
    "bias_torsion_psi.addGlobalParameter(\"inf\", 1e20)\n",
    "bias_torsion_psi.addGlobalParameter(\"tau\", 2*math.pi)\n",
    "bias_torsion_psi.addTorsion(4, 6, 8, 14) \n",
    "system.addForce(bias_torsion_psi)\n",
    "\n",
    "integrator = LangevinIntegrator(300*kelvin, 1/(0.1*picoseconds), 2*femtoseconds)\n",
    "simulation = Simulation(pdb.topology, system, integrator)\n",
    "simulation.context.setPositions(pdb.positions)\n",
    "simulation.minimizeEnergy()\n",
    "\n",
    "simulation.reporters = []\n",
    "simulation.reporters.append(DCDReporter('traj2.dcd', 100))\n",
    "simulation.step(100000)\n",
    "\n",
    "traj2 = mdtraj.load('traj2.dcd', top='alanine-dipeptide.prmtop')\n",
    "plot_ramachandran(traj2) #, phi_atoms=[6, 8, 14, 16], psi_atoms=[4, 6, 8, 14])"
   ]
  },
  {
   "cell_type": "markdown",
   "metadata": {},
   "source": [
    "## Region B"
   ]
  },
  {
   "cell_type": "code",
   "execution_count": null,
   "metadata": {},
   "outputs": [],
   "source": [
    "pdb = PDBFile('alanine-dipeptide.pdb')\n",
    "forcefield = ForceField('amber99sbnmr.xml', 'amber99_obc.xml')\n",
    "system = forcefield.createSystem(\n",
    "    pdb.topology, nonbondedCutoff=3*nanometer, constraints=HBonds)\n",
    "\n",
    "#Todos\n",
    "#ADD A PARTICLE IN A BOX BIASING, psi angles: 4, 6, 8, 14, phi angles: 6, 8, 14, 16\n",
    "#bias_torsion_phi = omm.CustomTorsionForce(\"15*( -erf(50*(theta+3)) + erf(50*(theta-0)) )\")\n",
    "bias_torsion_phi.addGlobalParameter(\"inf\", 1000)\n",
    "bias_torsion_phi.addGlobalParameter(\"tau\", 2*math.pi)\n",
    "bias_torsion_phi.addTorsion(6, 8, 14, 16) \n",
    "system.addForce(bias_torsion_phi)\n",
    "\n",
    "#Todo\n",
    "#bias_torsion_psi = omm.CustomTorsionForce(\"15*( -erf(50*(theta+2.1)) + erf(50*(theta-0.523)) )\")\n",
    "bias_torsion_psi.addGlobalParameter(\"inf\", 1e20)\n",
    "bias_torsion_psi.addGlobalParameter(\"tau\", 2*math.pi)\n",
    "bias_torsion_psi.addTorsion(4, 6, 8, 14) \n",
    "system.addForce(bias_torsion_psi)\n",
    "\n",
    "integrator = LangevinIntegrator(300*kelvin, 1/picoseconds, 2*femtoseconds)\n",
    "simulation = Simulation(pdb.topology, system, integrator)\n",
    "simulation.context.setPositions(pdb.positions)\n",
    "simulation.minimizeEnergy()\n",
    "\n",
    "simulation.reporters = []\n",
    "simulation.reporters.append(DCDReporter('traj3.dcd', 100))\n",
    "simulation.step(100000)\n",
    "\n",
    "traj2 = mdtraj.load('traj3.dcd', top='alanine-dipeptide.prmtop')\n",
    "plot_ramachandran(traj2) #, phi_atoms=[6, 8, 14, 16], psi_atoms=[4, 6, 8, 14])"
   ]
  },
  {
   "cell_type": "markdown",
   "metadata": {},
   "source": [
    "## Explicit Solvent Simulations"
   ]
  },
  {
   "cell_type": "code",
   "execution_count": 105,
   "metadata": {},
   "outputs": [
    {
     "name": "stdout",
     "output_type": "stream",
     "text": [
      "<Topology; 2 chains, 661 residues, 1996 atoms, 1337 bonds>\n"
     ]
    }
   ],
   "source": [
    "pdb = PDBFile('alanine-dipeptide.pdb')\n",
    "modeller = Modeller(pdb.topology, pdb.positions)\n",
    "forcefield = ForceField('amber14-all.xml', 'amber14/tip3pfb.xml')\n",
    "modeller.addSolvent(forcefield, model='tip3p', padding=1*nanometer)\n",
    "print(modeller.topology)\n",
    "# Write a PDB file to provide a topology of the solvated\n",
    "# system to MDTraj below.\n",
    "with open('init3.pdb', 'w') as outfile:\n",
    "    PDBFile.writeFile(modeller.topology, modeller.positions, outfile)\n",
    "\n",
    "# The modeller builds a periodic box with the solute and solvent molecules.\n",
    "# PME is the method to compute long-range electristatic interactions in\n",
    "# periodic systems.\n",
    "system = forcefield.createSystem(\n",
    "    modeller.topology, nonbondedMethod=PME, constraints=HBonds)\n",
    "temperature = 300 * kelvin\n",
    "pressure = 1 * bar\n",
    "integrator = LangevinIntegrator(temperature, 1/picosecond, 2*femtoseconds)\n",
    "system.addForce(MonteCarloBarostat(pressure, temperature))\n",
    "simulation = Simulation(modeller.topology, system, integrator)\n",
    "simulation.context.setPositions(modeller.positions)\n",
    "simulation.minimizeEnergy()\n",
    "'''\n",
    "simulation.reporters.append(DCDReporter('traj3.dcd', 100))\n",
    "simulation.reporters.append(StateDataReporter(stdout, 1000, step=True, temperature=True, elapsedTime=True))\n",
    "simulation.reporters.append(StateDataReporter(\"scalars3.csv\", 100, time=True, potentialEnergy=True, totalEnergy=True, temperature=True))\n",
    "'''\n",
    "simulation.step(100000)"
   ]
  },
  {
   "cell_type": "code",
   "execution_count": null,
   "metadata": {},
   "outputs": [
    {
     "data": {
      "image/png": "[encoded data removed]",
      "text/plain": [
       "<Figure size 432x288 with 3 Axes>"
      ]
     },
     "metadata": {
      "needs_background": "light"
     },
     "output_type": "display_data"
    }
   ],
   "source": [
    "traj3.restrict_atoms(traj3.topology.select(\"protein\"))\n",
    "plot_ramachandran(traj3[75:])"
   ]
  },
  {
   "cell_type": "markdown",
   "metadata": {},
   "source": [
    "Probably need to make a restraining potential for the intervals $[-100, 85]$ and $[-100, 85]^c$."
   ]
  },
  {
   "cell_type": "markdown",
   "metadata": {},
   "source": [
    "## References and Required Readings"
   ]
  },
  {
   "cell_type": "markdown",
   "metadata": {},
   "source": [
    "http://ambermd.org/tutorials/advanced/tutorial19/ for that picture of alanine-dipeptide conformations"
   ]
  },
  {
   "cell_type": "markdown",
   "metadata": {},
   "source": [
    "https://en.wikipedia.org/wiki/Water_model#:~:text=In%20computational%20chemistry%2C%20a%20water,experimental%20results%2C%20and%20these%20combinations."
   ]
  }
 ],
 "metadata": {
  "interpreter": {
   "hash": "6bdb4c9c3f61b306428a8735aa29fdb3d47c708c66b6a0572dccc6544bde0e67"
  },
  "kernelspec": {
   "display_name": "Python 3.8.10 ('MMCD')",
   "language": "python",
   "name": "python3"
  },
  "language_info": {
   "codemirror_mode": {
    "name": "ipython",
    "version": 3
   },
   "file_extension": ".py",
   "mimetype": "text/x-python",
   "name": "python",
   "nbconvert_exporter": "python",
   "pygments_lexer": "ipython3",
   "version": "3.8.10"
  },
  "orig_nbformat": 4
 },
 "nbformat": 4,
 "nbformat_minor": 2
}
