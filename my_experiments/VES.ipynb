{
 "cells": [
  {
   "cell_type": "markdown",
   "metadata": {},
   "source": [
    "# Solving Statistical Mechanics Using Variational Autoregressive Networks"
   ]
  },
  {
   "cell_type": "markdown",
   "metadata": {},
   "source": [
    "Suppose we have some distribution:\n",
    "\n",
    "$$ p(x)=\\frac{e^{-\\beta E(x)}}{Z} $$\n",
    "\n",
    "With the absolute free energy being:\n",
    " \n",
    "$$F = \\frac{1}{\\beta} \\ln(Z)$$\n",
    "\n",
    "Now suppose we have a distribution, $q_{\\theta}(x)$, whose parameters $\\theta$ we can optimize such that $q_{\\theta}(x)$ matches the target distribution $p(x)$ as close as possible. \n",
    "\n",
    "$D_{KL}(q_{\\theta} \\| p)$ can be used as an optimizable function.\n",
    "\n",
    "However, what is valuable is that minimizing $D_{KL}(q_{\\theta} \\| p)$ does not require samples from $p(x)$, or even calculating $p(x)$; notice that:\n",
    "\n",
    "$D_{KL}(q_{\\theta} \\| p) = \\sum q_{\\theta} \\ln (\\frac{q_{\\theta}(x)}{p(x)}) = \\beta(F_q - F)$ and $F_q = \\frac{1}{\\beta} \\sum q_{\\theta}\n"
   ]
  },
  {
   "cell_type": "markdown",
   "metadata": {},
   "source": []
  }
 ],
 "metadata": {
  "language_info": {
   "name": "python"
  },
  "orig_nbformat": 4
 },
 "nbformat": 4,
 "nbformat_minor": 2
}
