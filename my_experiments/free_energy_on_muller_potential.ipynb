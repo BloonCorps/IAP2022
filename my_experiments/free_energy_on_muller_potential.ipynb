{
 "cells": [
  {
   "cell_type": "markdown",
   "metadata": {},
   "source": [
    "# Calculation of Free Energy of Two Basins of the Muller-Brown Potential"
   ]
  },
  {
   "cell_type": "code",
   "execution_count": 1,
   "metadata": {},
   "outputs": [],
   "source": [
    "import matplotlib as mpl\n",
    "from matplotlib import cm\n",
    "import matplotlib.pyplot as plt\n",
    "\n",
    "import numpy as np\n",
    "import torch\n",
    "torch.set_default_dtype(torch.double)\n",
    "import math\n",
    "import matplotlib.pyplot as plt\n",
    "import matplotlib as mpl\n",
    "from matplotlib import cm\n",
    "from sys import exit\n",
    "import pickle\n",
    "import scipy.integrate as integrate\n",
    "import os"
   ]
  },
  {
   "cell_type": "markdown",
   "metadata": {},
   "source": [
    "## Definitions and Potential Energy Contour Plot"
   ]
  },
  {
   "cell_type": "markdown",
   "metadata": {},
   "source": [
    "The function, $\\text{compute\\_Muller\\_potential(beta, x)}$ take in a constant $\\beta = k_BT$ and a two dimensional coordinate $x = (x_1, x_2)$ and returns the potential energy at that point. Below we plot a contour plot of the potential energy surface. "
   ]
  },
  {
   "cell_type": "code",
   "execution_count": 2,
   "metadata": {},
   "outputs": [],
   "source": [
    "def compute_Muller_potential(beta, x):\n",
    "    A = (-200., -100., -170., 15.)\n",
    "    b = (0., 0., 11., 0.6)    \n",
    "    ac = (x.new_tensor([-1.0, -10.0]),\n",
    "          x.new_tensor([-1.0, -10.0]),\n",
    "          x.new_tensor([-6.5, -6.5]),\n",
    "          x.new_tensor([0.7, 0.7]))\n",
    "    \n",
    "    x0 = (x.new_tensor([ 1.0, 0.0]),\n",
    "          x.new_tensor([ 0.0, 0.5]),\n",
    "          x.new_tensor([-0.5, 1.5]),\n",
    "          x.new_tensor([-1.0, 1.0]))\n",
    "    \n",
    "    U = 0    \n",
    "    for i in range(4):\n",
    "        diff = x - x0[i]\n",
    "        U = U + A[i]*torch.exp(torch.sum(ac[i]*diff**2, -1) + b[i]*torch.prod(diff, -1))\n",
    "\n",
    "    return beta*U\n",
    "\n",
    "def generate_grid(x1_min, x1_max, x2_min, x2_max, ndim1, ndim2):\n",
    "    x1 = torch.linspace(x1_min, x1_max, steps=ndim1)\n",
    "    x2 = torch.linspace(x2_min, x2_max, steps=ndim2)\n",
    "    grid_x1, grid_x2 = torch.meshgrid(x1, x2)\n",
    "    grid = torch.stack([grid_x1, grid_x2], dim = -1)\n",
    "    x = grid.reshape((-1, 2))\n",
    "    return x\n",
    "    \n",
    "x1_min, x1_max = -1.5, 1.0\n",
    "x2_min, x2_max = -0.5, 2.0\n",
    "ndim = 100\n",
    "\n",
    "x = generate_grid(x1_min, x1_max, x2_min, x2_max, ndim, ndim)\n",
    "U = compute_Muller_potential(1, x)\n",
    "U = U.reshape(ndim, ndim)\n",
    "U = U.T"
   ]
  },
  {
   "cell_type": "code",
   "execution_count": 3,
   "metadata": {},
   "outputs": [
    {
     "data": {
      "image/png": "[encoded data removed]",
      "text/plain": [
       "<Figure size 432x288 with 2 Axes>"
      ]
     },
     "metadata": {
      "needs_background": "light"
     },
     "output_type": "display_data"
    }
   ],
   "source": [
    "fig = plt.figure(0)\n",
    "fig.clf()\n",
    "plt.contourf(U, levels = 30, extent = (x1_min, x1_max, x2_min, x2_max), cmap = cm.viridis_r)\n",
    "#plt.contourf(U, levels = 30, cmap = cm.viridis_r)\n",
    "plt.xlabel(r\"$x_1$\", fontsize = 24)\n",
    "plt.ylabel(r\"$x_2$\", fontsize = 24)\n",
    "plt.colorbar()\n",
    "plt.tight_layout()"
   ]
  },
  {
   "cell_type": "code",
   "execution_count": 4,
   "metadata": {},
   "outputs": [],
   "source": [
    "def compute_Muller_potential_point(beta, r):\n",
    "    \"\"\"\n",
    "    Computes the Muller potential at a point r = (x, y).\n",
    "    \"\"\"\n",
    "    x = r[0]\n",
    "    y = r[1]\n",
    "    A = (-200., -100., -170., 15.)\n",
    "    a = (-1, -1, -6.5, 0.7)\n",
    "    b = (0., 0., 11., 0.6) \n",
    "    c = (-10, -10, -6.5, 0.7)\n",
    "    x0 = (1, 0, -0.5, -1)\n",
    "    y0 = (0, 0.5, 1.5, 1)\n",
    "\n",
    "    result = 0\n",
    "    for k in range(4):\n",
    "        result += A[k]*np.exp(a[k]*(x-x0[k])**2 + b[k]*(x-x0[k])*(y-y0[k])+ c[k]*(y-y0[k])**2)\n",
    "    return beta*result "
   ]
  },
  {
   "cell_type": "code",
   "execution_count": 6,
   "metadata": {},
   "outputs": [
    {
     "name": "stdout",
     "output_type": "stream",
     "text": [
      "-1.4440260764436557\n",
      "1.4440260764436557\n",
      "-28.880521528873114\n"
     ]
    }
   ],
   "source": [
    "partition_function = dict()\n",
    "beta = 0.05\n",
    "def p_x_y(x, y, beta = 0.05):\n",
    "    \"\"\"\n",
    "    Returns the probability density at a point (x, y).\n",
    "    \"\"\"\n",
    "    b_U_r = compute_Muller_potential_point(beta, (x, y))\n",
    "    try:\n",
    "        q = partition_function[beta]\n",
    "    except:\n",
    "        q = integrate.nquad(lambda x, y: np.exp(-compute_Muller_potential_point(beta, (x , y))), \n",
    "        [[-1.5, 1], [-0.5, 2]])\n",
    "        partition_function[beta] = q\n",
    "    \n",
    "    return np.exp(-b_U_r)/q[0]\n",
    "\n",
    "basin1_q = integrate.nquad(p_x_y, [[-1.5, 0], [0.55, 2]])\n",
    "basin2_q = integrate.nquad(p_x_y, [[-0.8, 1], [-0.5, 0.8]])\n",
    "\n",
    "print(-np.log(basin1_q[0]/basin2_q[0]))\n",
    "print(-np.log(basin2_q[0]/basin1_q[0]))\n",
    "print(-(1/beta)*np.log(basin1_q[0]/basin2_q[0]))"
   ]
  },
  {
   "cell_type": "markdown",
   "metadata": {},
   "source": [
    "### Self-test"
   ]
  },
  {
   "cell_type": "markdown",
   "metadata": {},
   "source": [
    "We make sure that the two functions give the same energy for a point. "
   ]
  },
  {
   "cell_type": "code",
   "execution_count": 7,
   "metadata": {},
   "outputs": [
    {
     "name": "stdout",
     "output_type": "stream",
     "text": [
      "tensor(3.5826)\n",
      "tensor(3.5826)\n"
     ]
    }
   ],
   "source": [
    "print(compute_Muller_potential(0.05, torch.tensor((0.75, 0.75))))\n",
    "print(compute_Muller_potential_point(0.05, torch.tensor((0.75, 0.75))))"
   ]
  },
  {
   "cell_type": "markdown",
   "metadata": {},
   "source": [
    "# Compute Free Energy Difference by Direct Counting From TREMC"
   ]
  },
  {
   "cell_type": "code",
   "execution_count": 9,
   "metadata": {},
   "outputs": [
    {
     "data": {
      "text/plain": [
       "\"d = os.path.abspath('')\\nwith open('x_record_alpha_{:.3f}.pkl'.format(beta), 'rb') as file_handle:\\n    data = pickle.load(file_handle)\\nxp = data['x_record'][:, -1, :] #xp = x_record[:, -1, :]\\nplt.scatter(xp[:,0], xp[:,1], s = 0.1)\""
      ]
     },
     "execution_count": 9,
     "metadata": {},
     "output_type": "execute_result"
    }
   ],
   "source": [
    "'''d = os.path.abspath('')\n",
    "with open('x_record_alpha_{:.3f}.pkl'.format(beta), 'rb') as file_handle:\n",
    "    data = pickle.load(file_handle)\n",
    "xp = data['x_record'][:, -1, :] #xp = x_record[:, -1, :]\n",
    "plt.scatter(xp[:,0], xp[:,1], s = 0.1)''' #code for loading saved dataset"
   ]
  },
  {
   "cell_type": "code",
   "execution_count": 143,
   "metadata": {},
   "outputs": [
    {
     "ename": "TypeError",
     "evalue": "normal() received an invalid combination of arguments - got (Tensor, int, size=tuple), but expected one of:\n * (Tensor mean, Tensor std, *, torch.Generator generator, Tensor out)\n * (Tensor mean, float std, *, torch.Generator generator, Tensor out)\n * (float mean, Tensor std, *, torch.Generator generator, Tensor out)\n * (float mean, float std, tuple of ints size, *, torch.Generator generator, Tensor out, torch.dtype dtype, torch.layout layout, torch.device device, bool pin_memory, bool requires_grad)\n",
     "output_type": "error",
     "traceback": [
      "\u001b[0;31m---------------------------------------------------------------------------\u001b[0m",
      "\u001b[0;31mTypeError\u001b[0m                                 Traceback (most recent call last)",
      "\u001b[0;32m<ipython-input-143-d09eccba29da>\u001b[0m in \u001b[0;36m<module>\u001b[0;34m\u001b[0m\n\u001b[1;32m     21\u001b[0m \u001b[0;34m\u001b[0m\u001b[0m\n\u001b[1;32m     22\u001b[0m     \u001b[0;31m## sampling within each replica\u001b[0m\u001b[0;34m\u001b[0m\u001b[0;34m\u001b[0m\u001b[0;34m\u001b[0m\u001b[0m\n\u001b[0;32m---> 23\u001b[0;31m     \u001b[0mdelta_x\u001b[0m \u001b[0;34m=\u001b[0m \u001b[0mtorch\u001b[0m\u001b[0;34m.\u001b[0m\u001b[0mnormal\u001b[0m\u001b[0;34m(\u001b[0m\u001b[0mx\u001b[0m\u001b[0;34m,\u001b[0m \u001b[0;36m1\u001b[0m\u001b[0;34m,\u001b[0m \u001b[0msize\u001b[0m \u001b[0;34m=\u001b[0m \u001b[0;34m(\u001b[0m\u001b[0mnum_reps\u001b[0m\u001b[0;34m,\u001b[0m \u001b[0;36m2\u001b[0m\u001b[0;34m)\u001b[0m\u001b[0;34m)\u001b[0m\u001b[0;34m*\u001b[0m\u001b[0;36m0.5\u001b[0m\u001b[0;34m\u001b[0m\u001b[0;34m\u001b[0m\u001b[0m\n\u001b[0m\u001b[1;32m     24\u001b[0m     \u001b[0mx_p\u001b[0m \u001b[0;34m=\u001b[0m \u001b[0mx\u001b[0m \u001b[0;34m+\u001b[0m \u001b[0mdelta_x\u001b[0m\u001b[0;34m\u001b[0m\u001b[0;34m\u001b[0m\u001b[0m\n\u001b[1;32m     25\u001b[0m     \u001b[0menergy_p\u001b[0m \u001b[0;34m=\u001b[0m \u001b[0mcompute_Muller_potential\u001b[0m\u001b[0;34m(\u001b[0m\u001b[0;36m1.0\u001b[0m\u001b[0;34m,\u001b[0m \u001b[0mx_p\u001b[0m\u001b[0;34m)\u001b[0m\u001b[0;34m\u001b[0m\u001b[0;34m\u001b[0m\u001b[0m\n",
      "\u001b[0;31mTypeError\u001b[0m: normal() received an invalid combination of arguments - got (Tensor, int, size=tuple), but expected one of:\n * (Tensor mean, Tensor std, *, torch.Generator generator, Tensor out)\n * (Tensor mean, float std, *, torch.Generator generator, Tensor out)\n * (float mean, Tensor std, *, torch.Generator generator, Tensor out)\n * (float mean, float std, tuple of ints size, *, torch.Generator generator, Tensor out, torch.dtype dtype, torch.layout layout, torch.device device, bool pin_memory, bool requires_grad)\n"
     ]
    }
   ],
   "source": [
    "alpha = 0.05\n",
    "\n",
    "x1_min, x1_max = -1.5, 1\n",
    "x2_min, x2_max = -0.5, 2.0\n",
    "\n",
    "num_reps = 10\n",
    "alphas = torch.linspace(0.001, alpha, num_reps)\n",
    "\n",
    "num_steps = 300000\n",
    "x_record = []\n",
    "accept_rate = 0\n",
    "x = torch.stack((x1_min + torch.rand(num_reps)*(x1_max - x1_min),\n",
    "                 x2_min + torch.rand(num_reps)*(x2_max - x2_min)),\n",
    "                dim = -1)\n",
    "                \n",
    "energy = compute_Muller_potential(1.0, x)\n",
    "\n",
    "for k in range(num_steps):\n",
    "    if (k + 1) % 50000 == 0:\n",
    "        print(\"idx of steps: {}\".format(k))\n",
    "        \n",
    "    ## sampling within each replica\n",
    "    delta_x = torch.normal(0, 1, size = (num_reps, 2))*0.5\n",
    "    x_p = x + delta_x\n",
    "    energy_p = compute_Muller_potential(1.0, x_p)\n",
    "\n",
    "    ## accept based on energy\n",
    "    accept_prop = torch.exp(-alphas*(energy_p - energy))\n",
    "    accept_flag = torch.rand(num_reps) < accept_prop\n",
    "\n",
    "    ## considering the bounding effects\n",
    "    accept_flag = accept_flag & torch.all(x_p > x_p.new_tensor([x1_min, x2_min]), -1) \\\n",
    "                              & torch.all(x_p < x_p.new_tensor([x1_max, x2_max]), -1)\n",
    "    \n",
    "    x_p[~accept_flag] = x[~accept_flag]\n",
    "    energy_p[~accept_flag] = energy[~accept_flag]    \n",
    "    x = x_p\n",
    "    energy = energy_p\n",
    "\n",
    "    ## calculate overall accept rate\n",
    "    accept_rate = accept_rate + (accept_flag.float() - accept_rate)/(k+1)    \n",
    "    \n",
    "    ## exchange\n",
    "    if k % 10 == 0:\n",
    "        x_ori = x\n",
    "        for i in range(1, num_reps):\n",
    "            accept_prop = torch.exp((alphas[i] - alphas[i-1])*(energy[i] - energy[i-1]))\n",
    "            accept_flag = torch.rand(1) < accept_prop\n",
    "            if accept_flag.item(): \n",
    "                tmp = x[i].clone() \n",
    "                x[i] = x[i-1].clone()\n",
    "                x[i-1] = tmp.clone() #im not sure if the third clone is nessesary\n",
    "\n",
    "                tmp = energy[i].clone()\n",
    "                energy[i] = energy[i-1].clone()\n",
    "                energy[i-1] = tmp.clone()\n",
    "                \n",
    "        if k >= 20000:\n",
    "            x_record.append(x.clone().numpy())\n",
    "        \n",
    "x_record = np.array(x_record)\n"
   ]
  },
  {
   "cell_type": "markdown",
   "metadata": {},
   "source": [
    "### Demonstate the clone() is Needed For Swapping"
   ]
  },
  {
   "cell_type": "code",
   "execution_count": 69,
   "metadata": {},
   "outputs": [
    {
     "name": "stdout",
     "output_type": "stream",
     "text": [
      "tensor([[1, 2],\n",
      "        [3, 4]])\n",
      "tensor([[1, 2],\n",
      "        [1, 2]])\n"
     ]
    }
   ],
   "source": [
    "test = torch.tensor([[1,2], [3,4]])\n",
    "print(test)\n",
    "#swap code\n",
    "tmp = test[1]\n",
    "test[1] = test[0]\n",
    "test[0] = test[1]\n",
    "#shows code after swapping\n",
    "print(test)"
   ]
  },
  {
   "cell_type": "markdown",
   "metadata": {},
   "source": [
    "### Free energy by direct counting"
   ]
  },
  {
   "cell_type": "code",
   "execution_count": 93,
   "metadata": {},
   "outputs": [
    {
     "name": "stdout",
     "output_type": "stream",
     "text": [
      "1.423084136374438\n",
      "-1.423084136374438\n",
      "-28.46168272748876\n"
     ]
    }
   ],
   "source": [
    "xp = x_record[:, -1, :]\n",
    "\n",
    "basin1_N = 0\n",
    "basin2_N = 0\n",
    "\n",
    "for (x1, x2) in xp:\n",
    "    if (-1.5 < x1 < 0) and (0.55 < x2 < 2):\n",
    "        basin1_N += 1\n",
    "    if (-0.8 < x1 < 1) and (-0.5 < x2 < 0.8):\n",
    "        basin2_N += 1\n",
    "\n",
    "print(np.log(basin1_N/basin2_N))\n",
    "print(np.log(basin2_N/basin1_N))\n",
    "print(-(1/beta)*np.log(basin1_N/basin2_N))"
   ]
  },
  {
   "cell_type": "code",
   "execution_count": 107,
   "metadata": {},
   "outputs": [
    {
     "data": {
      "image/png": "[encoded data removed]",
      "text/plain": [
       "<Figure size 432x288 with 1 Axes>"
      ]
     },
     "metadata": {
      "needs_background": "light"
     },
     "output_type": "display_data"
    },
    {
     "data": {
      "image/png": "[encoded data removed]",
      "text/plain": [
       "<Figure size 432x288 with 1 Axes>"
      ]
     },
     "metadata": {
      "needs_background": "light"
     },
     "output_type": "display_data"
    }
   ],
   "source": [
    "x_record = np.array(x_record)\n",
    "xp = x_record[:, 9, :]\n",
    "\n",
    "x1, x2 = xp[:,0], xp[:,1]\n",
    "\n",
    "def p_x_9(x):\n",
    "    p_x = integrate.quad(lambda y: p_x_y(x, y), -0.5, 2)\n",
    "    return p_x\n",
    "\n",
    "def p_y_9(y):\n",
    "    p_y = integrate.quad(lambda x: p_x_y(x, y), -1.5, 1)\n",
    "    return p_y\n",
    "\n",
    "plt.hist(x1, density=True, bins = 200)\n",
    "lines = np.linspace(-1.5, 1, 1000)\n",
    "x1_curve = [p_x_9(l)[0] for l in lines]\n",
    "plt.plot(lines, x1_curve)\n",
    "plt.show()\n",
    "\n",
    "plt.hist(x2, density=True, bins = 200)\n",
    "lines = np.linspace(-0.5, 2.0, 1000)\n",
    "x2_curve = [p_y_9(l)[0] for l in lines]\n",
    "plt.plot(lines, x2_curve)\n",
    "plt.show()"
   ]
  },
  {
   "cell_type": "code",
   "execution_count": 98,
   "metadata": {},
   "outputs": [
    {
     "name": "stdout",
     "output_type": "stream",
     "text": [
      "tensor([0.0010, 0.0064, 0.0119, 0.0173, 0.0228, 0.0282, 0.0337, 0.0391, 0.0446,\n",
      "        0.0500])\n"
     ]
    }
   ],
   "source": [
    "print(alphas)"
   ]
  },
  {
   "cell_type": "code",
   "execution_count": 111,
   "metadata": {},
   "outputs": [
    {
     "data": {
      "image/png": "[encoded data removed]",
      "text/plain": [
       "<Figure size 432x288 with 1 Axes>"
      ]
     },
     "metadata": {
      "needs_background": "light"
     },
     "output_type": "display_data"
    },
    {
     "data": {
      "image/png": "[encoded data removed]",
      "text/plain": [
       "<Figure size 432x288 with 1 Axes>"
      ]
     },
     "metadata": {
      "needs_background": "light"
     },
     "output_type": "display_data"
    }
   ],
   "source": [
    "x_record = np.array(x_record)\n",
    "xp = x_record[:, 8, :]\n",
    "\n",
    "x1, x2 = xp[:,0], xp[:,1]\n",
    "\n",
    "def p_x_8(x):\n",
    "    p_x = integrate.quad(lambda y: p_x_y(x, y, beta = float(alphas[8])), -0.5, 2)\n",
    "    return p_x\n",
    "\n",
    "def p_y_8(y):\n",
    "    p_y = integrate.quad(lambda x: p_x_y(x, y, beta = float(alphas[8])), -1.5, 1)\n",
    "    return p_y\n",
    "\n",
    "plt.hist(x1, density=True, bins = 200)\n",
    "lines = np.linspace(-1.5, 1, 1000)\n",
    "x1_curve = [p_x_8(l)[0] for l in lines]\n",
    "plt.plot(lines, x1_curve)\n",
    "plt.show()\n",
    "\n",
    "plt.hist(x2, density=True, bins = 200)\n",
    "lines = np.linspace(-0.5, 2.0, 1000)\n",
    "x2_curve = [p_y_8(l)[0] for l in lines]\n",
    "plt.plot(lines, x2_curve)\n",
    "plt.show()"
   ]
  },
  {
   "cell_type": "markdown",
   "metadata": {},
   "source": [
    "## Comparison of PDF for $\\beta = 0.05$ and $\\beta = 0.0446$"
   ]
  },
  {
   "cell_type": "code",
   "execution_count": 131,
   "metadata": {},
   "outputs": [],
   "source": [
    "betas = alphas\n",
    "pdf_dict = dict()\n",
    "\n",
    "for beta in betas:\n",
    "    beta = float(beta)\n",
    "    def p_x_given_beta(x):\n",
    "        p_x = integrate.quad(lambda y: p_x_y(x, y, beta), -0.5, 2)\n",
    "        return p_x\n",
    "    pdf_dict[beta] = p_x_given_beta"
   ]
  },
  {
   "cell_type": "markdown",
   "metadata": {},
   "source": [
    "### $x_1$ Comparison"
   ]
  },
  {
   "cell_type": "code",
   "execution_count": 141,
   "metadata": {},
   "outputs": [
    {
     "data": {
      "image/png": "[encoded data removed]",
      "text/plain": [
       "<Figure size 432x288 with 1 Axes>"
      ]
     },
     "metadata": {
      "needs_background": "light"
     },
     "output_type": "display_data"
    }
   ],
   "source": [
    "xaxis = np.linspace(-1.5, 1, 1000)\n",
    "\n",
    "for beta in betas:\n",
    "    f = pdf_dict[float(beta)]\n",
    "    curve = [f(x)[0] for x in xaxis]\n",
    "    plt.plot(xaxis, curve)\n",
    "\n",
    "plt.show()"
   ]
  },
  {
   "cell_type": "markdown",
   "metadata": {},
   "source": [
    "## Save Data"
   ]
  },
  {
   "cell_type": "code",
   "execution_count": 142,
   "metadata": {},
   "outputs": [],
   "source": [
    "with open('samples_beta_%.3f.pkl'%beta, 'wb') as file_handle:\n",
    "    pickle.dump({'beta_lst': betas, 'x_record': x_record}, file_handle)"
   ]
  },
  {
   "cell_type": "markdown",
   "metadata": {},
   "source": [
    "## Generate Seperate Datasets Using in A and B"
   ]
  },
  {
   "cell_type": "markdown",
   "metadata": {},
   "source": [
    "### Region A"
   ]
  },
  {
   "cell_type": "code",
   "execution_count": 10,
   "metadata": {},
   "outputs": [
    {
     "name": "stdout",
     "output_type": "stream",
     "text": [
      "idx of steps: 49999\n",
      "idx of steps: 99999\n",
      "idx of steps: 149999\n",
      "idx of steps: 199999\n",
      "idx of steps: 249999\n",
      "idx of steps: 299999\n"
     ]
    }
   ],
   "source": [
    "Abounds = [[-1.5, 0], [0.55, 2]]\n",
    "alpha = 0.05\n",
    "\n",
    "x1_min, x1_max = -1.5, 0\n",
    "x2_min, x2_max = 0.55, 2\n",
    "\n",
    "num_reps = 10\n",
    "alphas = torch.linspace(0.001, alpha, num_reps)\n",
    "\n",
    "num_steps = 320000\n",
    "x_record = []\n",
    "accept_rate = 0\n",
    "x = torch.stack((x1_min + torch.rand(num_reps)*(x1_max - x1_min),\n",
    "                 x2_min + torch.rand(num_reps)*(x2_max - x2_min)),\n",
    "                dim = -1)\n",
    "                \n",
    "energy = compute_Muller_potential(1.0, x)\n",
    "\n",
    "for k in range(num_steps):\n",
    "    if (k + 1) % 50000 == 0:\n",
    "        print(\"idx of steps: {}\".format(k))\n",
    "        \n",
    "    ## sampling within each replica\n",
    "    delta_x = torch.normal(0, 1, size = (num_reps, 2))*0.5\n",
    "    x_p = x + delta_x\n",
    "    energy_p = compute_Muller_potential(1.0, x_p)\n",
    "\n",
    "    ## accept based on energy\n",
    "    accept_prop = torch.exp(-alphas*(energy_p - energy))\n",
    "    accept_flag = torch.rand(num_reps) < accept_prop\n",
    "\n",
    "    ## considering the bounding effects\n",
    "    accept_flag = accept_flag & torch.all(x_p > x_p.new_tensor([x1_min, x2_min]), -1) \\\n",
    "                              & torch.all(x_p < x_p.new_tensor([x1_max, x2_max]), -1)\n",
    "    \n",
    "    x_p[~accept_flag] = x[~accept_flag]\n",
    "    energy_p[~accept_flag] = energy[~accept_flag]    \n",
    "    x = x_p\n",
    "    energy = energy_p\n",
    "\n",
    "    ## calculate overall accept rate\n",
    "    accept_rate = accept_rate + (accept_flag.float() - accept_rate)/(k+1)    \n",
    "    \n",
    "    ## exchange\n",
    "    if k % 10 == 0:\n",
    "        x_ori = x\n",
    "        for i in range(1, num_reps):\n",
    "            accept_prop = torch.exp((alphas[i] - alphas[i-1])*(energy[i] - energy[i-1]))\n",
    "            accept_flag = torch.rand(1) < accept_prop\n",
    "            if accept_flag.item(): \n",
    "                tmp = x[i].clone() \n",
    "                x[i] = x[i-1].clone()\n",
    "                x[i-1] = tmp.clone() #im not sure if the third clone is nessesary\n",
    "\n",
    "                tmp = energy[i].clone()\n",
    "                energy[i] = energy[i-1].clone()\n",
    "                energy[i-1] = tmp.clone()\n",
    "                \n",
    "        if k >= 20000:\n",
    "            x_record.append(x.clone().numpy())\n",
    "        \n",
    "x_record_A = np.array(x_record)"
   ]
  },
  {
   "cell_type": "code",
   "execution_count": 11,
   "metadata": {},
   "outputs": [],
   "source": [
    "with open('Asamples_beta_%.3f.pkl'%beta, 'wb') as file_handle:\n",
    "    pickle.dump({'beta_lst': alphas, 'x_record': x_record_A}, file_handle)"
   ]
  },
  {
   "cell_type": "markdown",
   "metadata": {},
   "source": [
    "### Region B"
   ]
  },
  {
   "cell_type": "code",
   "execution_count": 12,
   "metadata": {},
   "outputs": [
    {
     "name": "stdout",
     "output_type": "stream",
     "text": [
      "idx of steps: 49999\n",
      "idx of steps: 99999\n",
      "idx of steps: 149999\n",
      "idx of steps: 199999\n",
      "idx of steps: 249999\n",
      "idx of steps: 299999\n"
     ]
    }
   ],
   "source": [
    "Bbounds = [[-0.8, 1], [-0.5, 0.8]] \n",
    "alpha = 0.05\n",
    "\n",
    "x1_min, x1_max = -0.8, 1\n",
    "x2_min, x2_max = -0.5, 0.8\n",
    "\n",
    "num_reps = 10\n",
    "alphas = torch.linspace(0.001, alpha, num_reps)\n",
    "\n",
    "num_steps = 320000\n",
    "x_record = []\n",
    "accept_rate = 0\n",
    "x = torch.stack((x1_min + torch.rand(num_reps)*(x1_max - x1_min),\n",
    "                 x2_min + torch.rand(num_reps)*(x2_max - x2_min)),\n",
    "                dim = -1)\n",
    "                \n",
    "energy = compute_Muller_potential(1.0, x)\n",
    "\n",
    "for k in range(num_steps):\n",
    "    if (k + 1) % 50000 == 0:\n",
    "        print(\"idx of steps: {}\".format(k))\n",
    "        \n",
    "    ## sampling within each replica\n",
    "    delta_x = torch.normal(0, 1, size = (num_reps, 2))*0.5\n",
    "    x_p = x + delta_x\n",
    "    energy_p = compute_Muller_potential(1.0, x_p)\n",
    "\n",
    "    ## accept based on energy\n",
    "    accept_prop = torch.exp(-alphas*(energy_p - energy))\n",
    "    accept_flag = torch.rand(num_reps) < accept_prop\n",
    "\n",
    "    ## considering the bounding effects\n",
    "    accept_flag = accept_flag & torch.all(x_p > x_p.new_tensor([x1_min, x2_min]), -1) \\\n",
    "                              & torch.all(x_p < x_p.new_tensor([x1_max, x2_max]), -1)\n",
    "    \n",
    "    x_p[~accept_flag] = x[~accept_flag]\n",
    "    energy_p[~accept_flag] = energy[~accept_flag]    \n",
    "    x = x_p\n",
    "    energy = energy_p\n",
    "\n",
    "    ## calculate overall accept rate\n",
    "    accept_rate = accept_rate + (accept_flag.float() - accept_rate)/(k+1)    \n",
    "    \n",
    "    ## exchange\n",
    "    if k % 10 == 0:\n",
    "        x_ori = x\n",
    "        for i in range(1, num_reps):\n",
    "            accept_prop = torch.exp((alphas[i] - alphas[i-1])*(energy[i] - energy[i-1]))\n",
    "            accept_flag = torch.rand(1) < accept_prop\n",
    "            if accept_flag.item(): \n",
    "                tmp = x[i].clone() \n",
    "                x[i] = x[i-1].clone()\n",
    "                x[i-1] = tmp.clone() #im not sure if the third clone is nessesary\n",
    "\n",
    "                tmp = energy[i].clone()\n",
    "                energy[i] = energy[i-1].clone()\n",
    "                energy[i-1] = tmp.clone()\n",
    "                \n",
    "        if k >= 20000:\n",
    "            x_record.append(x.clone().numpy())\n",
    "        \n",
    "x_record_B = np.array(x_record)"
   ]
  },
  {
   "cell_type": "code",
   "execution_count": 13,
   "metadata": {},
   "outputs": [],
   "source": [
    "with open('Bsamples_beta_%.3f.pkl'%beta, 'wb') as file_handle:\n",
    "    pickle.dump({'beta_lst': alphas, 'x_record': x_record_B}, file_handle)"
   ]
  }
 ],
 "metadata": {
  "interpreter": {
   "hash": "6bdb4c9c3f61b306428a8735aa29fdb3d47c708c66b6a0572dccc6544bde0e67"
  },
  "kernelspec": {
   "display_name": "Python 3.8.10 64-bit ('MMCD': conda)",
   "language": "python",
   "name": "python3"
  },
  "language_info": {
   "codemirror_mode": {
    "name": "ipython",
    "version": 3
   },
   "file_extension": ".py",
   "mimetype": "text/x-python",
   "name": "python",
   "nbconvert_exporter": "python",
   "pygments_lexer": "ipython3",
   "version": "3.8.10"
  },
  "orig_nbformat": 4
 },
 "nbformat": 4,
 "nbformat_minor": 2
}
