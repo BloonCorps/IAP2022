{
 "cells": [
  {
   "cell_type": "markdown",
   "metadata": {},
   "source": [
    "## Numerical Integration to Calculate Free Energy"
   ]
  },
  {
   "cell_type": "code",
   "execution_count": 291,
   "metadata": {},
   "outputs": [],
   "source": [
    "import matplotlib as mpl\n",
    "from matplotlib import cm\n",
    "import matplotlib.pyplot as plt\n",
    "\n",
    "import numpy as np\n",
    "import torch\n",
    "torch.set_default_dtype(torch.double)\n",
    "import math\n",
    "import matplotlib.pyplot as plt\n",
    "import matplotlib as mpl\n",
    "from matplotlib import cm\n",
    "from sys import exit\n",
    "import pickle\n",
    "import scipy.integrate as integrate\n",
    "import os"
   ]
  },
  {
   "cell_type": "code",
   "execution_count": 293,
   "metadata": {},
   "outputs": [
    {
     "data": {
      "image/png": "[encoded data removed]",
      "text/plain": [
       "<Figure size 432x288 with 2 Axes>"
      ]
     },
     "metadata": {
      "needs_background": "light"
     },
     "output_type": "display_data"
    }
   ],
   "source": [
    "def compute_Muller_potential(beta, x):\n",
    "    A = (-200., -100., -170., 15.)\n",
    "    b = (0., 0., 11., 0.6)    \n",
    "    ac = (x.new_tensor([-1.0, -10.0]),\n",
    "          x.new_tensor([-1.0, -10.0]),\n",
    "          x.new_tensor([-6.5, -6.5]),\n",
    "          x.new_tensor([0.7, 0.7]))\n",
    "    \n",
    "    x0 = (x.new_tensor([ 1.0, 0.0]),\n",
    "          x.new_tensor([ 0.0, 0.5]),\n",
    "          x.new_tensor([-0.5, 1.5]),\n",
    "          x.new_tensor([-1.0, 1.0]))\n",
    "    \n",
    "    U = 0    \n",
    "    for i in range(4):\n",
    "        diff = x - x0[i]\n",
    "        U = U + A[i]*torch.exp(torch.sum(ac[i]*diff**2, -1) + b[i]*torch.prod(diff, -1))\n",
    "\n",
    "    return beta*U\n",
    "\n",
    "def generate_grid(x1_min, x1_max, x2_min, x2_max, ndim1, ndim2):\n",
    "    x1 = torch.linspace(x1_min, x1_max, steps=ndim1)\n",
    "    x2 = torch.linspace(x2_min, x2_max, steps=ndim2)\n",
    "    grid_x1, grid_x2 = torch.meshgrid(x1, x2)\n",
    "    grid = torch.stack([grid_x1, grid_x2], dim = -1)\n",
    "    x = grid.reshape((-1, 2))\n",
    "    return x\n",
    "    \n",
    "x1_min, x1_max = -1.5, 1.0\n",
    "x2_min, x2_max = -0.5, 2.0\n",
    "ndim = 100\n",
    "\n",
    "x = generate_grid(x1_min, x1_max, x2_min, x2_max, ndim, ndim)\n",
    "U = compute_Muller_potential(1, x)\n",
    "U = U.reshape(ndim, ndim)\n",
    "U = U.T\n",
    "\n",
    "fig = plt.figure(0)\n",
    "fig.clf()\n",
    "plt.contourf(U, levels = 30, extent = (x1_min, x1_max, x2_min, x2_max), cmap = cm.viridis_r)\n",
    "#plt.contourf(U, levels = 30, cmap = cm.viridis_r)\n",
    "\n",
    "plt.xlabel(r\"$x_1$\", fontsize = 24)\n",
    "plt.ylabel(r\"$x_2$\", fontsize = 24)\n",
    "plt.colorbar()\n",
    "plt.tight_layout()"
   ]
  },
  {
   "cell_type": "code",
   "execution_count": 294,
   "metadata": {},
   "outputs": [
    {
     "name": "stdout",
     "output_type": "stream",
     "text": [
      "idx of steps: 49999\n",
      "idx of steps: 99999\n",
      "idx of steps: 149999\n",
      "idx of steps: 199999\n",
      "idx of steps: 249999\n",
      "idx of steps: 299999\n",
      "idx of steps: 349999\n",
      "idx of steps: 399999\n",
      "idx of steps: 449999\n",
      "idx of steps: 499999\n"
     ]
    }
   ],
   "source": [
    "alpha = 0.05\n",
    "\n",
    "with open(\"./output/range.pkl\", 'rb') as file_handle:\n",
    "    data = pickle.load(file_handle)\n",
    "x1_min, x1_max = data['x1_min'], data['x1_max']\n",
    "x2_min, x2_max = data['x2_min'], data['x2_max']\n",
    "\n",
    "num_reps = 10\n",
    "alphas = torch.linspace(0.0, alpha, num_reps)\n",
    "\n",
    "num_steps = 510000\n",
    "x_record = []\n",
    "accept_rate = 0\n",
    "x = torch.stack((x1_min + torch.rand(num_reps)*(x1_max - x1_min),\n",
    "                 x2_min + torch.rand(num_reps)*(x2_max - x2_min)),\n",
    "                dim = -1)\n",
    "energy = compute_Muller_potential(1.0, x)\n",
    "\n",
    "for k in range(num_steps):\n",
    "    if (k + 1) % 500 == 0:\n",
    "        print(\"idx of steps: {}\".format(k))\n",
    "        \n",
    "    ## sampling within each replica\n",
    "    delta_x = torch.normal(0, 1, size = (num_reps, 2))*0.3\n",
    "    x_p = x + delta_x\n",
    "    energy_p = compute_Muller_potential(1.0, x_p)\n",
    "\n",
    "    ## accept based on energy\n",
    "    accept_prop = torch.exp(-alphas*(energy_p - energy))\n",
    "    accept_flag = torch.rand(num_reps) < accept_prop\n",
    "\n",
    "    ## considering the bounding effects\n",
    "    accept_flag = accept_flag & torch.all(x_p > x_p.new_tensor([x1_min, x2_min]), -1) \\\n",
    "                              & torch.all(x_p < x_p.new_tensor([x1_max, x2_max]), -1)\n",
    "    \n",
    "    x_p[~accept_flag] = x[~accept_flag]\n",
    "    energy_p[~accept_flag] = energy[~accept_flag]    \n",
    "    x = x_p\n",
    "    energy = energy_p\n",
    "\n",
    "    ## calculate overall accept rate\n",
    "    accept_rate = accept_rate + (accept_flag.float() - accept_rate)/(k+1)    \n",
    "    \n",
    "    ## exchange\n",
    "    if k % 10 == 0:\n",
    "        for i in range(1, num_reps):\n",
    "            accept_prop = torch.exp((alphas[i] - alphas[i-1])*(energy[i] - energy[i-1]))\n",
    "            accept_flag = torch.rand(1) < accept_prop\n",
    "            if accept_flag.item():\n",
    "                tmp = x[i]\n",
    "                x[i] = x[i-1]\n",
    "                x[i-1] = tmp\n",
    "\n",
    "                tmp = energy[i]\n",
    "                energy[i] = energy[i-1]\n",
    "                energy[i-1] = tmp\n",
    "        if k >= 10000:\n",
    "            x_record.append(x.clone().numpy())\n",
    "\n",
    "x_record = np.array(x_record)"
   ]
  },
  {
   "cell_type": "code",
   "execution_count": 278,
   "metadata": {},
   "outputs": [],
   "source": [
    "def compute_Muller_potential_point(x, y):\n",
    "    \"\"\"\n",
    "    Computes the Muller potential at a point r = (x, y).\n",
    "    \"\"\"\n",
    "    A = (-200., -100., -170., 15.)\n",
    "    a = (-1, -1, -6.5, 0.7)\n",
    "    b = (0., 0., 11., 0.6) \n",
    "    c = (-10, -10, -6.5, 0.7)\n",
    "    x0 = (1, 0, -0.5, -1)\n",
    "    y0 = (0, 0.5, 1.5, 1)\n",
    "\n",
    "    result = 0\n",
    "    for k in range(4):\n",
    "        result += A[k]*np.exp(a[k]*(x-x0[k])**2 + b[k]*(x-x0[k])*(y-y0[k])+ c[k]*(y-y0[k])**2)\n",
    "    return result "
   ]
  },
  {
   "cell_type": "code",
   "execution_count": 301,
   "metadata": {},
   "outputs": [
    {
     "name": "stdout",
     "output_type": "stream",
     "text": [
      "(0.9999999998199389, 1.485403849056759e-08)\n"
     ]
    }
   ],
   "source": [
    "partition_function = dict()\n",
    "beta = 0.025\n",
    "def p_x_y(x, y, beta = 0.025):\n",
    "    \"\"\"\n",
    "    Returns the probability density at a point (x, y).\n",
    "    \"\"\"\n",
    "    U_r = compute_Muller_potential_point(x, y)\n",
    "    try:\n",
    "        q = partition_function[beta]\n",
    "    except:\n",
    "        q = integrate.nquad(lambda x, y: np.exp(-beta*compute_Muller_potential_point(x , y)), \n",
    "        [[-11, 11], [-11, 11]])\n",
    "        partition_function[beta] = q\n",
    "    \n",
    "    return np.exp(-beta*U_r)/q[0]\n",
    "\n",
    "basin1_q = integrate.nquad(p_x_y, [[-1.5, 0], [0.55, 2]])\n",
    "basin2_q = integrate.nquad(p_x_y, [[-0.8, 1], [-0.5, 0.8]])\n",
    "print(integrate.nquad(p_x_y, [[-11, 11], [-11, 11]]))"
   ]
  },
  {
   "cell_type": "code",
   "execution_count": 300,
   "metadata": {},
   "outputs": [
    {
     "name": "stdout",
     "output_type": "stream",
     "text": [
      "0.468786982982445\n",
      "-0.468786982982445\n",
      "-18.7514793192978\n"
     ]
    }
   ],
   "source": [
    "print(np.log(basin1_q[0]/basin2_q[0]))\n",
    "print(np.log(basin2_q[0]/basin1_q[0]))\n",
    "print(-(1/beta)*np.log(basin1_q[0]/basin2_q[0]))"
   ]
  },
  {
   "cell_type": "markdown",
   "metadata": {},
   "source": [
    "# Compute Muller Potential by Direct Counting"
   ]
  },
  {
   "cell_type": "code",
   "execution_count": 296,
   "metadata": {},
   "outputs": [
    {
     "data": {
      "text/plain": [
       "\"\\nd = os.path.abspath('')\\n\\nwith open('x_record_alpha_{:.3f}.pkl'.format(beta), 'rb') as file_handle:\\n    data = pickle.load(file_handle)\\n\\nxp = data['x_record'][:, -1, :]\\n\""
      ]
     },
     "execution_count": 296,
     "metadata": {},
     "output_type": "execute_result"
    }
   ],
   "source": [
    "\"\"\"\n",
    "d = os.path.abspath('')\n",
    "\n",
    "with open('x_record_alpha_{:.3f}.pkl'.format(beta), 'rb') as file_handle:\n",
    "    data = pickle.load(file_handle)\n",
    "\n",
    "xp = data['x_record'][:, -1, :]\n",
    "\"\"\""
   ]
  },
  {
   "cell_type": "code",
   "execution_count": 297,
   "metadata": {},
   "outputs": [
    {
     "name": "stdout",
     "output_type": "stream",
     "text": [
      "[[-0.88227903  1.21033082]\n",
      " [ 0.44412967  0.29733239]\n",
      " [-1.06144964  0.57728306]\n",
      " ...\n",
      " [-0.62770639  1.6909242 ]\n",
      " [-0.63752469  1.36704305]\n",
      " [-0.63752469  1.36704305]]\n"
     ]
    }
   ],
   "source": [
    "xp = x_record[:, -1, :]\n",
    "print(xp)"
   ]
  },
  {
   "cell_type": "code",
   "execution_count": 299,
   "metadata": {},
   "outputs": [
    {
     "name": "stdout",
     "output_type": "stream",
     "text": [
      "0.8496103056712438\n",
      "-0.8496103056712438\n",
      "-33.984412226849756\n",
      "0.025\n"
     ]
    }
   ],
   "source": [
    "basin1_N = 0\n",
    "basin2_N = 0\n",
    "\n",
    "for (x, y) in xp:\n",
    "    if (-1.5 < x < 0) and (0.55 < y < 2):\n",
    "        basin1_N += 1\n",
    "    if (-0.8 < x < 1) and (-0.5 < y < 0.8):\n",
    "        basin2_N += 1\n",
    "\n",
    "print(np.log(basin1_N/basin2_N))\n",
    "print(np.log(basin2_N/basin1_N))\n",
    "print(-(1/beta)*np.log(basin1_N/basin2_N))\n",
    "print(beta)"
   ]
  }
 ],
 "metadata": {
  "interpreter": {
   "hash": "6bdb4c9c3f61b306428a8735aa29fdb3d47c708c66b6a0572dccc6544bde0e67"
  },
  "kernelspec": {
   "display_name": "Python 3.8.10 64-bit ('MMCD': conda)",
   "language": "python",
   "name": "python3"
  },
  "language_info": {
   "codemirror_mode": {
    "name": "ipython",
    "version": 3
   },
   "file_extension": ".py",
   "mimetype": "text/x-python",
   "name": "python",
   "nbconvert_exporter": "python",
   "pygments_lexer": "ipython3",
   "version": "3.8.10"
  },
  "orig_nbformat": 4
 },
 "nbformat": 4,
 "nbformat_minor": 2
}
