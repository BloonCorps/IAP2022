{
 "cells": [
  {
   "cell_type": "markdown",
   "metadata": {},
   "source": [
    "# Molecular Dynamics Simulation of Alanine Dipeptide in Explicit Solvent"
   ]
  },
  {
   "cell_type": "code",
   "execution_count": null,
   "metadata": {
    "tags": [
     "before-import"
    ]
   },
   "outputs": [],
   "source": [
    "%matplotlib widget\n",
    "\n",
    "from sys import stdout\n",
    "\n",
    "import matplotlib.pyplot as plt\n",
    "import mdtraj\n",
    "import nglview\n",
    "import numpy as np\n",
    "import pandas\n",
    "from simtk.openmm import *\n",
    "from simtk.openmm.app import *\n",
    "from simtk.unit import *\n",
    "from simtk.unit import nanometer, picosecond, femtoseconds"
   ]
  },
  {
   "cell_type": "code",
   "execution_count": 3,
   "metadata": {},
   "outputs": [
    {
     "name": "stdout",
     "output_type": "stream",
     "text": [
      "<Topology; 2 chains, 661 residues, 1996 atoms, 1337 bonds>\n",
      "#\"Step\",\"Temperature (K)\",\"Elapsed Time (s)\"\n",
      "1000,264.81527732508454,9.417533874511719e-05\n",
      "2000,287.5090468927022,0.23753905296325684\n",
      "3000,288.4943439860635,0.48711228370666504\n",
      "4000,289.83621952983214,0.7222506999969482\n",
      "5000,308.8650889316472,1.0085482597351074\n",
      "6000,301.51300571954346,1.254230260848999\n",
      "7000,309.334704862373,1.4963874816894531\n",
      "8000,303.2849730405985,1.7271511554718018\n",
      "9000,305.07244766589133,1.9560651779174805\n",
      "10000,304.578876527116,2.2170662879943848\n",
      "11000,294.8708109583478,2.447046995162964\n",
      "12000,289.8033820591522,2.6763904094696045\n",
      "13000,298.87961205358175,2.902147054672241\n",
      "14000,298.02058518061875,3.1320972442626953\n",
      "15000,302.2590732486515,3.362990617752075\n",
      "16000,305.18383019385124,3.626969814300537\n",
      "17000,301.1528496062827,3.8594095706939697\n",
      "18000,294.98869697979995,4.087745666503906\n",
      "19000,286.81408521548184,4.3201003074646\n",
      "20000,287.35739781832814,4.550617218017578\n",
      "21000,297.64677087858206,4.811292886734009\n",
      "22000,301.2534746396384,5.043998718261719\n",
      "23000,291.5153963850231,5.2805047035217285\n",
      "24000,299.952336487749,5.507706642150879\n",
      "25000,302.80357535936724,5.741671800613403\n",
      "26000,304.10760514263706,6.002119779586792\n",
      "27000,296.3794518732558,6.2326507568359375\n",
      "28000,306.2045104370142,6.460778474807739\n",
      "29000,302.0663792650561,6.6856794357299805\n",
      "30000,301.1672027656727,6.9110612869262695\n",
      "31000,308.41416409043,7.136887550354004\n",
      "32000,295.89180370796856,7.395698070526123\n",
      "33000,308.15034395462834,7.619796276092529\n",
      "34000,298.2568001981479,7.846568822860718\n",
      "35000,293.0521038010612,8.073982000350952\n",
      "36000,302.61232529538546,8.297232151031494\n",
      "37000,296.30480250771467,8.554985523223877\n",
      "38000,294.9300286416066,8.781009435653687\n",
      "39000,298.68456148136823,9.008214950561523\n",
      "40000,291.19629696396123,9.236722469329834\n",
      "41000,299.08548555462227,9.463342428207397\n",
      "42000,299.02447410252773,9.724074840545654\n",
      "43000,301.2677293810312,9.950448513031006\n",
      "44000,301.7239927538993,10.176825284957886\n",
      "45000,301.5195401998446,10.403655767440796\n",
      "46000,292.21329732559815,10.631084442138672\n",
      "47000,297.5545807623409,10.889407396316528\n",
      "48000,299.64654260495496,11.115699529647827\n",
      "49000,298.918649077635,11.344449996948242\n",
      "50000,297.82768665046694,11.57546353340149\n",
      "51000,303.9325514506636,11.80778694152832\n",
      "52000,300.85741520421783,12.04084038734436\n",
      "53000,298.59450470580254,12.314083814620972\n",
      "54000,296.30193839463954,12.548418283462524\n",
      "55000,293.723810167303,12.778212070465088\n",
      "56000,302.2278146309987,13.005402326583862\n",
      "57000,301.009036661145,13.236409425735474\n",
      "58000,307.37110427724616,13.497376441955566\n",
      "59000,291.0726667973269,13.72572636604309\n",
      "60000,284.1485105073851,13.970370292663574\n",
      "61000,299.5042171180277,14.208293199539185\n",
      "62000,306.01497759174566,14.442668914794922\n",
      "63000,299.23661208834284,14.709951639175415\n",
      "64000,294.5091997502836,14.944453716278076\n",
      "65000,292.59867358300164,15.181668043136597\n",
      "66000,301.5249319093211,15.417292356491089\n",
      "67000,294.3644085969261,15.674305438995361\n",
      "68000,306.44073393266603,15.910498857498169\n",
      "69000,296.4458718876625,16.17868137359619\n",
      "70000,296.87688212309354,16.42867088317871\n",
      "71000,297.91766252448286,16.692193508148193\n",
      "72000,298.31010852253206,16.910866260528564\n",
      "73000,308.07441338872394,17.130008697509766\n",
      "74000,309.24118672410157,17.379700422286987\n",
      "75000,283.1827473534289,17.602890968322754\n",
      "76000,294.08036603185633,17.827935934066772\n",
      "77000,306.38623075790747,18.045666933059692\n",
      "78000,295.9168789613515,18.264978170394897\n",
      "79000,297.97557902530406,18.5226628780365\n",
      "80000,289.07252266583805,18.75084614753723\n",
      "81000,301.7329789491398,18.98306632041931\n",
      "82000,314.8969745427208,19.21609139442444\n",
      "83000,298.75594285982754,19.446747064590454\n",
      "84000,310.8648676312517,19.67845368385315\n",
      "85000,300.99243112023186,19.93961811065674\n",
      "86000,299.5251912311202,20.163202047348022\n",
      "87000,287.884208392622,20.38622522354126\n",
      "88000,292.96028248188594,20.611797094345093\n",
      "89000,300.7470674864181,20.835904836654663\n",
      "90000,289.6428773350548,21.09226131439209\n",
      "91000,305.1517844755168,21.31757426261902\n",
      "92000,295.4820490048801,21.542845249176025\n",
      "93000,312.77645264535136,21.7729971408844\n",
      "94000,312.99277055474346,21.99929141998291\n",
      "95000,296.9620778829929,22.250519037246704\n",
      "96000,299.55749337537975,22.471391677856445\n",
      "97000,292.86271944485503,22.690555572509766\n",
      "98000,285.76939502927166,22.91141653060913\n",
      "99000,300.5916175421985,23.134762287139893\n",
      "100000,286.7044166730128,23.39861822128296\n"
     ]
    }
   ],
   "source": [
    "pdb = PDBFile('alanine-dipeptide.pdb')\n",
    "modeller = Modeller(pdb.topology, pdb.positions)\n",
    "forcefield = ForceField('amber14-all.xml', 'amber14/tip3pfb.xml')\n",
    "modeller.addSolvent(forcefield, model='tip3p', padding=1*nanometer)\n",
    "print(modeller.topology)\n",
    "# Write a PDB file to provide a topology of the solvated\n",
    "# system to MDTraj below.\n",
    "with open('init3.pdb', 'w') as outfile:\n",
    "    PDBFile.writeFile(modeller.topology, modeller.positions, outfile)\n",
    "\n",
    "# The modeller builds a periodic box with the solute and solvent molecules.\n",
    "# PME is the method to compute long-range electristatic interactions in periodic systems.\n",
    "system = forcefield.createSystem(\n",
    "    modeller.topology, nonbondedMethod=PME, constraints=HBonds)\n",
    "temperature = 300 * kelvin\n",
    "pressure = 1 * bar\n",
    "integrator = LangevinIntegrator(temperature, 1/picosecond, 2*femtoseconds)\n",
    "system.addForce(MonteCarloBarostat(pressure, temperature))\n",
    "simulation = Simulation(modeller.topology, system, integrator)\n",
    "simulation.context.setPositions(modeller.positions)\n",
    "simulation.minimizeEnergy() \n",
    "simulation.reporters.append(DCDReporter('traj3.dcd', 100))\n",
    "\n",
    "simulation.reporters.append(StateDataReporter(stdout, 1000, step=True,\n",
    "        temperature=True, elapsedTime=True))\n",
    "simulation.reporters.append(StateDataReporter(\"scalars3.csv\", 100, time=True,\n",
    "        potentialEnergy=True, totalEnergy=True, temperature=True))\n",
    "\n",
    "simulation.step(100000)"
   ]
  },
  {
   "cell_type": "markdown",
   "metadata": {},
   "source": [
    "The figure above shows that approximately (the first) 15 picoseconds are required for the equilibration. Results for these steps need to be removed before performing any analysis. A single MD step takes 2 femtoseconds and only every 100 steps, a frame is written to the PDB file, which means that the first 75 frames from the trajectory should be removed. For the visualization, we still look at all steps."
   ]
  },
  {
   "cell_type": "code",
   "execution_count": null,
   "metadata": {},
   "outputs": [
    {
     "data": {
      "application/vnd.jupyter.widget-view+json": {
       "model_id": "0e95237389fe43da93dd86583e84ef90",
       "version_major": 2,
       "version_minor": 0
      },
      "text/plain": [
       "NGLWidget(max_frame=999)"
      ]
     },
     "metadata": {},
     "output_type": "display_data"
    }
   ],
   "source": [
    "traj3 = mdtraj.load('traj1.dcd', top='init1.pdb')\n",
    "view = nglview.show_mdtraj(traj3)\n",
    "view.clear_representations()\n",
    "view.add_licorice()\n",
    "view.add_unitcell()\n",
    "view"
   ]
  }
 ],
 "metadata": {
  "kernelspec": {
   "display_name": "Python 3 (ipykernel)",
   "language": "python",
   "name": "python3"
  },
  "language_info": {
   "codemirror_mode": {
    "name": "ipython",
    "version": 3
   },
   "file_extension": ".py",
   "mimetype": "text/x-python",
   "name": "python",
   "nbconvert_exporter": "python",
   "pygments_lexer": "ipython3",
   "version": "3.8.10"
  },
  "latex_envs": {
   "LaTeX_envs_menu_present": true,
   "autoclose": true,
   "autocomplete": true,
   "bibliofile": "biblio.bib",
   "cite_by": "apalike",
   "current_citInitial": 1,
   "eqLabelWithNumbers": true,
   "eqNumInitial": 1,
   "hotkeys": {
    "equation": "Ctrl-E",
    "itemize": "Ctrl-I"
   },
   "labels_anchors": false,
   "latex_user_defs": false,
   "report_style_numbering": false,
   "user_envs_cfg": false
  }
 },
 "nbformat": 4,
 "nbformat_minor": 4
}
